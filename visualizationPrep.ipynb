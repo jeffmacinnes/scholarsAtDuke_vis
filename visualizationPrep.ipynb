{
 "cells": [
  {
   "cell_type": "code",
   "execution_count": 125,
   "metadata": {
    "collapsed": true
   },
   "outputs": [],
   "source": [
    "import os\n",
    "import sys\n",
    "from os.path import join\n",
    "import pandas as pd\n",
    "import numpy as np\n",
    "import time\n",
    "import itertools"
   ]
  },
  {
   "cell_type": "code",
   "execution_count": 15,
   "metadata": {
    "collapsed": false
   },
   "outputs": [
    {
     "name": "stdout",
     "output_type": "stream",
     "text": [
      "Populating the interactive namespace from numpy and matplotlib\n"
     ]
    },
    {
     "name": "stderr",
     "output_type": "stream",
     "text": [
      "WARNING: pylab import has clobbered these variables: ['f']\n",
      "`%matplotlib` prevents importing * from pylab and numpy\n"
     ]
    }
   ],
   "source": [
    "%pylab inline"
   ]
  },
  {
   "cell_type": "markdown",
   "metadata": {},
   "source": [
    "## read original source data"
   ]
  },
  {
   "cell_type": "code",
   "execution_count": 16,
   "metadata": {
    "collapsed": true
   },
   "outputs": [],
   "source": [
    "# read in dataframe\n",
    "collab_df = pd.read_table('data/processed/collaborations.tsv', sep='\\t')"
   ]
  },
  {
   "cell_type": "code",
   "execution_count": 17,
   "metadata": {
    "collapsed": false
   },
   "outputs": [
    {
     "data": {
      "text/plain": [
       "(50153, 33)"
      ]
     },
     "execution_count": 17,
     "metadata": {},
     "output_type": "execute_result"
    }
   ],
   "source": [
    "collab_df.shape"
   ]
  },
  {
   "cell_type": "code",
   "execution_count": 18,
   "metadata": {
    "collapsed": false
   },
   "outputs": [
    {
     "data": {
      "text/html": [
       "<div>\n",
       "<table border=\"1\" class=\"dataframe\">\n",
       "  <thead>\n",
       "    <tr style=\"text-align: right;\">\n",
       "      <th></th>\n",
       "      <th>PUBLICATION_ID</th>\n",
       "      <th>PUBLICATION_TYPE</th>\n",
       "      <th>PUBLICATION_URI</th>\n",
       "      <th>PUBLISHED_DATE</th>\n",
       "      <th>TOTAL_AUTHORS</th>\n",
       "      <th>dst_DUID</th>\n",
       "      <th>dst_FIRST_NAME</th>\n",
       "      <th>dst_LAST_NAME</th>\n",
       "      <th>dst_MIDDLE_NAME</th>\n",
       "      <th>src_DUID</th>\n",
       "      <th>...</th>\n",
       "      <th>src_LAT</th>\n",
       "      <th>dst_ADDRESS</th>\n",
       "      <th>dst_CITY</th>\n",
       "      <th>dst_ZIP</th>\n",
       "      <th>dst_LON</th>\n",
       "      <th>dst_LAT</th>\n",
       "      <th>distance</th>\n",
       "      <th>duration</th>\n",
       "      <th>transportMode</th>\n",
       "      <th>crowDistance</th>\n",
       "    </tr>\n",
       "  </thead>\n",
       "  <tbody>\n",
       "    <tr>\n",
       "      <th>0</th>\n",
       "      <td>0</td>\n",
       "      <td>Journal Article</td>\n",
       "      <td>https://scholars.duke.edu/individual/pub1000033</td>\n",
       "      <td>5/1/2013 12:00:00 AM</td>\n",
       "      <td>2</td>\n",
       "      <td>272070</td>\n",
       "      <td>Shelby</td>\n",
       "      <td>Reed</td>\n",
       "      <td>Derene</td>\n",
       "      <td>99016</td>\n",
       "      <td>...</td>\n",
       "      <td>36.003337</td>\n",
       "      <td>40 Duke Medicine Cir</td>\n",
       "      <td>DURHAM</td>\n",
       "      <td>27705</td>\n",
       "      <td>-78.935915</td>\n",
       "      <td>36.003337</td>\n",
       "      <td>0.0</td>\n",
       "      <td>0.0</td>\n",
       "      <td>walk</td>\n",
       "      <td>0.000000</td>\n",
       "    </tr>\n",
       "    <tr>\n",
       "      <th>1</th>\n",
       "      <td>1</td>\n",
       "      <td>Journal Article</td>\n",
       "      <td>https://scholars.duke.edu/individual/pub1000035</td>\n",
       "      <td>7/1/2013 12:00:00 AM</td>\n",
       "      <td>2</td>\n",
       "      <td>591120</td>\n",
       "      <td>John</td>\n",
       "      <td>Reynolds</td>\n",
       "      <td>Michael</td>\n",
       "      <td>119821</td>\n",
       "      <td>...</td>\n",
       "      <td>36.003337</td>\n",
       "      <td>40 Duke Medicine Cir</td>\n",
       "      <td>DURHAM</td>\n",
       "      <td>27705</td>\n",
       "      <td>-78.935915</td>\n",
       "      <td>36.003337</td>\n",
       "      <td>0.0</td>\n",
       "      <td>0.0</td>\n",
       "      <td>walk</td>\n",
       "      <td>0.000000</td>\n",
       "    </tr>\n",
       "    <tr>\n",
       "      <th>2</th>\n",
       "      <td>2</td>\n",
       "      <td>Journal Article</td>\n",
       "      <td>https://scholars.duke.edu/individual/pub1000091</td>\n",
       "      <td>10/3/2012 12:00:00 AM</td>\n",
       "      <td>2</td>\n",
       "      <td>98973</td>\n",
       "      <td>John</td>\n",
       "      <td>Alexander</td>\n",
       "      <td>Hunter Peel</td>\n",
       "      <td>314783</td>\n",
       "      <td>...</td>\n",
       "      <td>36.003337</td>\n",
       "      <td>40 Duke Medicine Cir</td>\n",
       "      <td>DURHAM</td>\n",
       "      <td>27705</td>\n",
       "      <td>-78.935915</td>\n",
       "      <td>36.003337</td>\n",
       "      <td>0.0</td>\n",
       "      <td>0.0</td>\n",
       "      <td>walk</td>\n",
       "      <td>0.000000</td>\n",
       "    </tr>\n",
       "    <tr>\n",
       "      <th>3</th>\n",
       "      <td>3</td>\n",
       "      <td>Journal Article</td>\n",
       "      <td>https://scholars.duke.edu/individual/pub1000099</td>\n",
       "      <td>11/1/2013 12:00:00 AM</td>\n",
       "      <td>2</td>\n",
       "      <td>449347</td>\n",
       "      <td>Endi</td>\n",
       "      <td>Wang</td>\n",
       "      <td>NaN</td>\n",
       "      <td>435364</td>\n",
       "      <td>...</td>\n",
       "      <td>36.003063</td>\n",
       "      <td>40 Duke Medicine Cir</td>\n",
       "      <td>DURHAM</td>\n",
       "      <td>27705</td>\n",
       "      <td>-78.936950</td>\n",
       "      <td>36.003063</td>\n",
       "      <td>0.0</td>\n",
       "      <td>0.0</td>\n",
       "      <td>walk</td>\n",
       "      <td>0.000000</td>\n",
       "    </tr>\n",
       "    <tr>\n",
       "      <th>4</th>\n",
       "      <td>4</td>\n",
       "      <td>Journal Article</td>\n",
       "      <td>https://scholars.duke.edu/individual/pub1000158</td>\n",
       "      <td>1/1/2013 12:00:00 AM</td>\n",
       "      <td>3</td>\n",
       "      <td>135843</td>\n",
       "      <td>Evan</td>\n",
       "      <td>Myers</td>\n",
       "      <td>Robert</td>\n",
       "      <td>373496</td>\n",
       "      <td>...</td>\n",
       "      <td>36.007164</td>\n",
       "      <td>40 Duke Medicine Cir</td>\n",
       "      <td>DURHAM</td>\n",
       "      <td>27705</td>\n",
       "      <td>-78.935105</td>\n",
       "      <td>36.003996</td>\n",
       "      <td>1110.0</td>\n",
       "      <td>883.0</td>\n",
       "      <td>walk</td>\n",
       "      <td>618.435335</td>\n",
       "    </tr>\n",
       "  </tbody>\n",
       "</table>\n",
       "<p>5 rows × 33 columns</p>\n",
       "</div>"
      ],
      "text/plain": [
       "   PUBLICATION_ID PUBLICATION_TYPE  \\\n",
       "0               0  Journal Article   \n",
       "1               1  Journal Article   \n",
       "2               2  Journal Article   \n",
       "3               3  Journal Article   \n",
       "4               4  Journal Article   \n",
       "\n",
       "                                   PUBLICATION_URI         PUBLISHED_DATE  \\\n",
       "0  https://scholars.duke.edu/individual/pub1000033   5/1/2013 12:00:00 AM   \n",
       "1  https://scholars.duke.edu/individual/pub1000035   7/1/2013 12:00:00 AM   \n",
       "2  https://scholars.duke.edu/individual/pub1000091  10/3/2012 12:00:00 AM   \n",
       "3  https://scholars.duke.edu/individual/pub1000099  11/1/2013 12:00:00 AM   \n",
       "4  https://scholars.duke.edu/individual/pub1000158   1/1/2013 12:00:00 AM   \n",
       "\n",
       "   TOTAL_AUTHORS  dst_DUID dst_FIRST_NAME dst_LAST_NAME dst_MIDDLE_NAME  \\\n",
       "0              2    272070         Shelby          Reed          Derene   \n",
       "1              2    591120           John      Reynolds         Michael   \n",
       "2              2     98973           John     Alexander     Hunter Peel   \n",
       "3              2    449347           Endi          Wang             NaN   \n",
       "4              3    135843           Evan         Myers          Robert   \n",
       "\n",
       "   src_DUID     ...         src_LAT           dst_ADDRESS dst_CITY  dst_ZIP  \\\n",
       "0     99016     ...       36.003337  40 Duke Medicine Cir   DURHAM    27705   \n",
       "1    119821     ...       36.003337  40 Duke Medicine Cir   DURHAM    27705   \n",
       "2    314783     ...       36.003337  40 Duke Medicine Cir   DURHAM    27705   \n",
       "3    435364     ...       36.003063  40 Duke Medicine Cir   DURHAM    27705   \n",
       "4    373496     ...       36.007164  40 Duke Medicine Cir   DURHAM    27705   \n",
       "\n",
       "     dst_LON    dst_LAT  distance  duration  transportMode crowDistance  \n",
       "0 -78.935915  36.003337       0.0       0.0           walk     0.000000  \n",
       "1 -78.935915  36.003337       0.0       0.0           walk     0.000000  \n",
       "2 -78.935915  36.003337       0.0       0.0           walk     0.000000  \n",
       "3 -78.936950  36.003063       0.0       0.0           walk     0.000000  \n",
       "4 -78.935105  36.003996    1110.0     883.0           walk   618.435335  \n",
       "\n",
       "[5 rows x 33 columns]"
      ]
     },
     "execution_count": 18,
     "metadata": {},
     "output_type": "execute_result"
    }
   ],
   "source": [
    "collab_df.head()"
   ]
  },
  {
   "cell_type": "markdown",
   "metadata": {},
   "source": [
    "### Instead of showing every time 2 people collaborated together, create a new table showing unique collaborations"
   ]
  },
  {
   "cell_type": "code",
   "execution_count": 19,
   "metadata": {
    "collapsed": false
   },
   "outputs": [],
   "source": [
    "uniqueCollabs = pd.read_table('data/processed/uniqueCollaborations.tsv', sep=\"\\t\")"
   ]
  },
  {
   "cell_type": "code",
   "execution_count": 20,
   "metadata": {
    "collapsed": false
   },
   "outputs": [
    {
     "data": {
      "text/html": [
       "<div>\n",
       "<table border=\"1\" class=\"dataframe\">\n",
       "  <thead>\n",
       "    <tr style=\"text-align: right;\">\n",
       "      <th></th>\n",
       "      <th>a1</th>\n",
       "      <th>a2</th>\n",
       "      <th>a1_BL_ID</th>\n",
       "      <th>a2_BL_ID</th>\n",
       "      <th>totalCollabs</th>\n",
       "      <th>collaborated</th>\n",
       "      <th>distance</th>\n",
       "      <th>duration</th>\n",
       "    </tr>\n",
       "  </thead>\n",
       "  <tbody>\n",
       "    <tr>\n",
       "      <th>0</th>\n",
       "      <td>1080</td>\n",
       "      <td>15649</td>\n",
       "      <td>7508</td>\n",
       "      <td>8141</td>\n",
       "      <td>1</td>\n",
       "      <td>1</td>\n",
       "      <td>1016</td>\n",
       "      <td>758</td>\n",
       "    </tr>\n",
       "    <tr>\n",
       "      <th>1</th>\n",
       "      <td>1080</td>\n",
       "      <td>21813</td>\n",
       "      <td>7508</td>\n",
       "      <td>7508</td>\n",
       "      <td>45</td>\n",
       "      <td>1</td>\n",
       "      <td>0</td>\n",
       "      <td>0</td>\n",
       "    </tr>\n",
       "    <tr>\n",
       "      <th>2</th>\n",
       "      <td>1080</td>\n",
       "      <td>45508</td>\n",
       "      <td>7508</td>\n",
       "      <td>8141</td>\n",
       "      <td>3</td>\n",
       "      <td>1</td>\n",
       "      <td>1016</td>\n",
       "      <td>758</td>\n",
       "    </tr>\n",
       "    <tr>\n",
       "      <th>3</th>\n",
       "      <td>1080</td>\n",
       "      <td>50834</td>\n",
       "      <td>7508</td>\n",
       "      <td>7508</td>\n",
       "      <td>8</td>\n",
       "      <td>1</td>\n",
       "      <td>0</td>\n",
       "      <td>0</td>\n",
       "    </tr>\n",
       "    <tr>\n",
       "      <th>4</th>\n",
       "      <td>1080</td>\n",
       "      <td>54158</td>\n",
       "      <td>7508</td>\n",
       "      <td>7507</td>\n",
       "      <td>1</td>\n",
       "      <td>1</td>\n",
       "      <td>0</td>\n",
       "      <td>0</td>\n",
       "    </tr>\n",
       "  </tbody>\n",
       "</table>\n",
       "</div>"
      ],
      "text/plain": [
       "     a1     a2  a1_BL_ID  a2_BL_ID  totalCollabs  collaborated  distance  \\\n",
       "0  1080  15649      7508      8141             1             1      1016   \n",
       "1  1080  21813      7508      7508            45             1         0   \n",
       "2  1080  45508      7508      8141             3             1      1016   \n",
       "3  1080  50834      7508      7508             8             1         0   \n",
       "4  1080  54158      7508      7507             1             1         0   \n",
       "\n",
       "   duration  \n",
       "0       758  \n",
       "1         0  \n",
       "2       758  \n",
       "3         0  \n",
       "4         0  "
      ]
     },
     "execution_count": 20,
     "metadata": {},
     "output_type": "execute_result"
    }
   ],
   "source": [
    "uniqueCollabs.head()"
   ]
  },
  {
   "cell_type": "code",
   "execution_count": 21,
   "metadata": {
    "collapsed": false
   },
   "outputs": [
    {
     "name": "stdout",
     "output_type": "stream",
     "text": [
      "There are 7334 unique collaborations with a distance greater than 0\n"
     ]
    }
   ],
   "source": [
    "uniqueCollabs = uniqueCollabs[uniqueCollabs.distance>0]\n",
    "print 'There are %s unique collaborations with a distance greater than 0' % (uniqueCollabs.collaborated.sum())"
   ]
  },
  {
   "cell_type": "code",
   "execution_count": 22,
   "metadata": {
    "collapsed": false
   },
   "outputs": [
    {
     "data": {
      "text/plain": [
       "Index([u'PUBLICATION_ID', u'PUBLICATION_TYPE', u'PUBLICATION_URI',\n",
       "       u'PUBLISHED_DATE', u'TOTAL_AUTHORS', u'dst_DUID', u'dst_FIRST_NAME',\n",
       "       u'dst_LAST_NAME', u'dst_MIDDLE_NAME', u'src_DUID', u'src_FIRST_NAME',\n",
       "       u'src_LAST_NAME', u'src_MIDDLE_NAME', u'src_OrgBFR', u'dst_OrgBFR',\n",
       "       u'src_DUKE_NUMBER', u'dst_DUKE_NUMBER', u'src_BL_ID', u'dst_BL_ID',\n",
       "       u'src_ADDRESS', u'src_CITY', u'src_ZIP', u'src_LON', u'src_LAT',\n",
       "       u'dst_ADDRESS', u'dst_CITY', u'dst_ZIP', u'dst_LON', u'dst_LAT',\n",
       "       u'distance', u'duration', u'transportMode', u'crowDistance'],\n",
       "      dtype='object')"
      ]
     },
     "execution_count": 22,
     "metadata": {},
     "output_type": "execute_result"
    }
   ],
   "source": [
    "collab_df.columns"
   ]
  },
  {
   "cell_type": "code",
   "execution_count": 23,
   "metadata": {
    "collapsed": true
   },
   "outputs": [],
   "source": [
    "def getBuildingLat(bl_id):\n",
    "    # get the latitude of the specified building\n",
    "    if bl_id in collab_df.src_BL_ID.values:\n",
    "        #thisLat = 1\n",
    "        thisLat = collab_df.loc[collab_df.src_BL_ID == bl_id, 'src_LAT'].iloc[0]\n",
    "    else:\n",
    "        #thisLat = 0\n",
    "        thisLat = collab_df.loc[collab_df.dst_BL_ID == bl_id, 'dst_LAT'].iloc[0]\n",
    "\n",
    "    return thisLat\n",
    "\n",
    "def getBuildingLon(bl_id):\n",
    "    # get the Longitude of the specified building\n",
    "    if bl_id in collab_df.src_BL_ID.values:\n",
    "        #thisLon = 1\n",
    "        thisLon = collab_df.loc[collab_df.src_BL_ID == bl_id, 'src_LON'].iloc[0]\n",
    "    else:\n",
    "        #thisLon = 0\n",
    "        thisLon = collab_df.loc[collab_df.dst_BL_ID == bl_id, 'dst_LON'].iloc[0]\n",
    "\n",
    "    return thisLon"
   ]
  },
  {
   "cell_type": "code",
   "execution_count": 25,
   "metadata": {
    "collapsed": false
   },
   "outputs": [],
   "source": [
    "uniqueCollabs['a1_LAT'] = uniqueCollabs['a1_BL_ID'].apply(getBuildingLat)\n",
    "uniqueCollabs['a1_LON'] = uniqueCollabs['a1_BL_ID'].apply(getBuildingLon)\n",
    "uniqueCollabs['a2_LAT'] = uniqueCollabs['a2_BL_ID'].apply(getBuildingLat)\n",
    "uniqueCollabs['a2_LON'] = uniqueCollabs['a2_BL_ID'].apply(getBuildingLon)"
   ]
  },
  {
   "cell_type": "code",
   "execution_count": 26,
   "metadata": {
    "collapsed": false
   },
   "outputs": [
    {
     "data": {
      "text/html": [
       "<div>\n",
       "<table border=\"1\" class=\"dataframe\">\n",
       "  <thead>\n",
       "    <tr style=\"text-align: right;\">\n",
       "      <th></th>\n",
       "      <th>a1</th>\n",
       "      <th>a2</th>\n",
       "      <th>a1_BL_ID</th>\n",
       "      <th>a2_BL_ID</th>\n",
       "      <th>totalCollabs</th>\n",
       "      <th>collaborated</th>\n",
       "      <th>distance</th>\n",
       "      <th>duration</th>\n",
       "      <th>a2_LAT</th>\n",
       "      <th>a2_LON</th>\n",
       "      <th>a1_LAT</th>\n",
       "      <th>a1_LON</th>\n",
       "    </tr>\n",
       "  </thead>\n",
       "  <tbody>\n",
       "    <tr>\n",
       "      <th>0</th>\n",
       "      <td>1080</td>\n",
       "      <td>15649</td>\n",
       "      <td>7508</td>\n",
       "      <td>8141</td>\n",
       "      <td>1</td>\n",
       "      <td>1</td>\n",
       "      <td>1016</td>\n",
       "      <td>758</td>\n",
       "      <td>36.009519</td>\n",
       "      <td>-78.941601</td>\n",
       "      <td>36.003337</td>\n",
       "      <td>-78.935915</td>\n",
       "    </tr>\n",
       "    <tr>\n",
       "      <th>2</th>\n",
       "      <td>1080</td>\n",
       "      <td>45508</td>\n",
       "      <td>7508</td>\n",
       "      <td>8141</td>\n",
       "      <td>3</td>\n",
       "      <td>1</td>\n",
       "      <td>1016</td>\n",
       "      <td>758</td>\n",
       "      <td>36.009519</td>\n",
       "      <td>-78.941601</td>\n",
       "      <td>36.003337</td>\n",
       "      <td>-78.935915</td>\n",
       "    </tr>\n",
       "    <tr>\n",
       "      <th>5</th>\n",
       "      <td>1080</td>\n",
       "      <td>62399</td>\n",
       "      <td>7508</td>\n",
       "      <td>7516</td>\n",
       "      <td>9</td>\n",
       "      <td>1</td>\n",
       "      <td>1110</td>\n",
       "      <td>883</td>\n",
       "      <td>36.007164</td>\n",
       "      <td>-78.940748</td>\n",
       "      <td>36.003337</td>\n",
       "      <td>-78.935915</td>\n",
       "    </tr>\n",
       "    <tr>\n",
       "      <th>6</th>\n",
       "      <td>1080</td>\n",
       "      <td>83945</td>\n",
       "      <td>7508</td>\n",
       "      <td>7516</td>\n",
       "      <td>2</td>\n",
       "      <td>1</td>\n",
       "      <td>1110</td>\n",
       "      <td>883</td>\n",
       "      <td>36.007164</td>\n",
       "      <td>-78.940748</td>\n",
       "      <td>36.003337</td>\n",
       "      <td>-78.935915</td>\n",
       "    </tr>\n",
       "    <tr>\n",
       "      <th>7</th>\n",
       "      <td>1080</td>\n",
       "      <td>95795</td>\n",
       "      <td>7508</td>\n",
       "      <td>8141</td>\n",
       "      <td>1</td>\n",
       "      <td>1</td>\n",
       "      <td>1016</td>\n",
       "      <td>758</td>\n",
       "      <td>36.009519</td>\n",
       "      <td>-78.941601</td>\n",
       "      <td>36.003337</td>\n",
       "      <td>-78.935915</td>\n",
       "    </tr>\n",
       "  </tbody>\n",
       "</table>\n",
       "</div>"
      ],
      "text/plain": [
       "     a1     a2  a1_BL_ID  a2_BL_ID  totalCollabs  collaborated  distance  \\\n",
       "0  1080  15649      7508      8141             1             1      1016   \n",
       "2  1080  45508      7508      8141             3             1      1016   \n",
       "5  1080  62399      7508      7516             9             1      1110   \n",
       "6  1080  83945      7508      7516             2             1      1110   \n",
       "7  1080  95795      7508      8141             1             1      1016   \n",
       "\n",
       "   duration     a2_LAT     a2_LON     a1_LAT     a1_LON  \n",
       "0       758  36.009519 -78.941601  36.003337 -78.935915  \n",
       "2       758  36.009519 -78.941601  36.003337 -78.935915  \n",
       "5       883  36.007164 -78.940748  36.003337 -78.935915  \n",
       "6       883  36.007164 -78.940748  36.003337 -78.935915  \n",
       "7       758  36.009519 -78.941601  36.003337 -78.935915  "
      ]
     },
     "execution_count": 26,
     "metadata": {},
     "output_type": "execute_result"
    }
   ],
   "source": [
    "uniqueCollabs.head()"
   ]
  },
  {
   "cell_type": "code",
   "execution_count": 27,
   "metadata": {
    "collapsed": false
   },
   "outputs": [
    {
     "data": {
      "text/plain": [
       "<matplotlib.axes._subplots.AxesSubplot at 0x10d242b10>"
      ]
     },
     "execution_count": 27,
     "metadata": {},
     "output_type": "execute_result"
    },
    {
     "data": {
      "image/png": "[encoded data removed]",
      "text/plain": [
       "<matplotlib.figure.Figure at 0x10d242bd0>"
      ]
     },
     "metadata": {},
     "output_type": "display_data"
    }
   ],
   "source": [
    "uniqueCollabs.totalCollabs.plot()"
   ]
  },
  {
   "cell_type": "markdown",
   "metadata": {},
   "source": [
    "### Filter out locations that are far outside campus/downtown durham\n",
    "from looking at an early visualization of all data, there is one site in particular that is pretty far south and east. Remove any collaboration with a source or destination at this remote site for the purposes of the visualization. "
   ]
  },
  {
   "cell_type": "code",
   "execution_count": 28,
   "metadata": {
    "collapsed": false
   },
   "outputs": [
    {
     "name": "stdout",
     "output_type": "stream",
     "text": [
      "35.9220293709\n",
      "-78.8691705465\n"
     ]
    }
   ],
   "source": [
    "# most southernly\n",
    "print collab_df['dst_LAT'].min()\n",
    "\n",
    "# most easternly\n",
    "print collab_df['dst_LON'].max()"
   ]
  },
  {
   "cell_type": "code",
   "execution_count": 29,
   "metadata": {
    "collapsed": false
   },
   "outputs": [
    {
     "data": {
      "text/plain": [
       "'19 TW Alexander Dr'"
      ]
     },
     "execution_count": 29,
     "metadata": {},
     "output_type": "execute_result"
    }
   ],
   "source": [
    "# Find the Address of this location\n",
    "remoteAddress = collab_df.loc[collab_df.dst_LAT == collab_df.dst_LAT.min(), 'dst_ADDRESS'].iloc[0]\n",
    "remoteAddress"
   ]
  },
  {
   "cell_type": "code",
   "execution_count": 30,
   "metadata": {
    "collapsed": false
   },
   "outputs": [
    {
     "data": {
      "text/plain": [
       "8329"
      ]
     },
     "execution_count": 30,
     "metadata": {},
     "output_type": "execute_result"
    }
   ],
   "source": [
    "# Find the BL_ID of this location\n",
    "remote_BL_ID = collab_df.loc[collab_df.dst_LAT == collab_df.dst_LAT.min(), 'dst_BL_ID'].iloc[0]\n",
    "remote_BL_ID"
   ]
  },
  {
   "cell_type": "code",
   "execution_count": 31,
   "metadata": {
    "collapsed": false
   },
   "outputs": [
    {
     "data": {
      "text/plain": [
       "(7272, 12)"
      ]
     },
     "execution_count": 31,
     "metadata": {},
     "output_type": "execute_result"
    }
   ],
   "source": [
    "# remove this collaboration from the dataset\n",
    "uniqueCollabs = uniqueCollabs[uniqueCollabs.a1_BL_ID != remote_BL_ID]\n",
    "uniqueCollabs = uniqueCollabs[uniqueCollabs.a2_BL_ID != remote_BL_ID]\n",
    "\n",
    "uniqueCollabs.shape"
   ]
  },
  {
   "cell_type": "markdown",
   "metadata": {},
   "source": [
    "### Write the filtered vis data to a file\n"
   ]
  },
  {
   "cell_type": "code",
   "execution_count": 32,
   "metadata": {
    "collapsed": false
   },
   "outputs": [],
   "source": [
    "uniqueCollabs.to_csv('vis/vis_collaborations.tsv', sep='\\t', index=False)"
   ]
  },
  {
   "cell_type": "markdown",
   "metadata": {},
   "source": [
    "# Prep the circos data"
   ]
  },
  {
   "cell_type": "markdown",
   "metadata": {},
   "source": [
    "### building circos data"
   ]
  },
  {
   "cell_type": "code",
   "execution_count": 33,
   "metadata": {
    "collapsed": false
   },
   "outputs": [
    {
     "data": {
      "text/html": [
       "<div>\n",
       "<table border=\"1\" class=\"dataframe\">\n",
       "  <thead>\n",
       "    <tr style=\"text-align: right;\">\n",
       "      <th></th>\n",
       "      <th>a1</th>\n",
       "      <th>a2</th>\n",
       "      <th>a1_BL_ID</th>\n",
       "      <th>a2_BL_ID</th>\n",
       "      <th>totalCollabs</th>\n",
       "      <th>collaborated</th>\n",
       "      <th>distance</th>\n",
       "      <th>duration</th>\n",
       "      <th>a2_LAT</th>\n",
       "      <th>a2_LON</th>\n",
       "      <th>a1_LAT</th>\n",
       "      <th>a1_LON</th>\n",
       "    </tr>\n",
       "  </thead>\n",
       "  <tbody>\n",
       "    <tr>\n",
       "      <th>0</th>\n",
       "      <td>1080</td>\n",
       "      <td>15649</td>\n",
       "      <td>7508</td>\n",
       "      <td>8141</td>\n",
       "      <td>1</td>\n",
       "      <td>1</td>\n",
       "      <td>1016</td>\n",
       "      <td>758</td>\n",
       "      <td>36.009519</td>\n",
       "      <td>-78.941601</td>\n",
       "      <td>36.003337</td>\n",
       "      <td>-78.935915</td>\n",
       "    </tr>\n",
       "    <tr>\n",
       "      <th>2</th>\n",
       "      <td>1080</td>\n",
       "      <td>45508</td>\n",
       "      <td>7508</td>\n",
       "      <td>8141</td>\n",
       "      <td>3</td>\n",
       "      <td>1</td>\n",
       "      <td>1016</td>\n",
       "      <td>758</td>\n",
       "      <td>36.009519</td>\n",
       "      <td>-78.941601</td>\n",
       "      <td>36.003337</td>\n",
       "      <td>-78.935915</td>\n",
       "    </tr>\n",
       "    <tr>\n",
       "      <th>5</th>\n",
       "      <td>1080</td>\n",
       "      <td>62399</td>\n",
       "      <td>7508</td>\n",
       "      <td>7516</td>\n",
       "      <td>9</td>\n",
       "      <td>1</td>\n",
       "      <td>1110</td>\n",
       "      <td>883</td>\n",
       "      <td>36.007164</td>\n",
       "      <td>-78.940748</td>\n",
       "      <td>36.003337</td>\n",
       "      <td>-78.935915</td>\n",
       "    </tr>\n",
       "    <tr>\n",
       "      <th>6</th>\n",
       "      <td>1080</td>\n",
       "      <td>83945</td>\n",
       "      <td>7508</td>\n",
       "      <td>7516</td>\n",
       "      <td>2</td>\n",
       "      <td>1</td>\n",
       "      <td>1110</td>\n",
       "      <td>883</td>\n",
       "      <td>36.007164</td>\n",
       "      <td>-78.940748</td>\n",
       "      <td>36.003337</td>\n",
       "      <td>-78.935915</td>\n",
       "    </tr>\n",
       "    <tr>\n",
       "      <th>7</th>\n",
       "      <td>1080</td>\n",
       "      <td>95795</td>\n",
       "      <td>7508</td>\n",
       "      <td>8141</td>\n",
       "      <td>1</td>\n",
       "      <td>1</td>\n",
       "      <td>1016</td>\n",
       "      <td>758</td>\n",
       "      <td>36.009519</td>\n",
       "      <td>-78.941601</td>\n",
       "      <td>36.003337</td>\n",
       "      <td>-78.935915</td>\n",
       "    </tr>\n",
       "  </tbody>\n",
       "</table>\n",
       "</div>"
      ],
      "text/plain": [
       "     a1     a2  a1_BL_ID  a2_BL_ID  totalCollabs  collaborated  distance  \\\n",
       "0  1080  15649      7508      8141             1             1      1016   \n",
       "2  1080  45508      7508      8141             3             1      1016   \n",
       "5  1080  62399      7508      7516             9             1      1110   \n",
       "6  1080  83945      7508      7516             2             1      1110   \n",
       "7  1080  95795      7508      8141             1             1      1016   \n",
       "\n",
       "   duration     a2_LAT     a2_LON     a1_LAT     a1_LON  \n",
       "0       758  36.009519 -78.941601  36.003337 -78.935915  \n",
       "2       758  36.009519 -78.941601  36.003337 -78.935915  \n",
       "5       883  36.007164 -78.940748  36.003337 -78.935915  \n",
       "6       883  36.007164 -78.940748  36.003337 -78.935915  \n",
       "7       758  36.009519 -78.941601  36.003337 -78.935915  "
      ]
     },
     "execution_count": 33,
     "metadata": {},
     "output_type": "execute_result"
    }
   ],
   "source": [
    "uniqueCollabs.head()"
   ]
  },
  {
   "cell_type": "code",
   "execution_count": 36,
   "metadata": {
    "collapsed": true
   },
   "outputs": [],
   "source": [
    "a1_bldgs = np.unique(uniqueCollabs.a1_BL_ID)\n",
    "a2_bldgs = np.unique(uniqueCollabs.a2_BL_ID)\n",
    "\n",
    "# unique list of buildings in the vis collaboration dataframe (i.e. buildings with collaboration distance > 0)\n",
    "unique_bldgs = np.unique(np.concatenate([a1_bldgs, a2_bldgs], axis=0))\n",
    "\n",
    "# start the building collaborations dataframe\n",
    "bl_collabs = pd.DataFrame({'BL_ID': unique_bldgs})"
   ]
  },
  {
   "cell_type": "markdown",
   "metadata": {},
   "source": [
    "#### get the total number of collaborations per building"
   ]
  },
  {
   "cell_type": "code",
   "execution_count": 148,
   "metadata": {
    "collapsed": true
   },
   "outputs": [],
   "source": [
    "def getTotalCollabsByBuilding(bl_id):\n",
    "    uniqeCollabsInThisBuilding = 0\n",
    "    \n",
    "    thisBuildingCollabs = uniqueCollabs.loc[(uniqueCollabs.a1_BL_ID == bl_id) | (uniqueCollabs.a2_BL_ID == bl_id), :]\n",
    "    uniqeCollabsInThisBuilding = thisBuildingCollabs.shape[0]\n",
    "    \n",
    "    return int(uniqeCollabsInThisBuilding)"
   ]
  },
  {
   "cell_type": "code",
   "execution_count": 149,
   "metadata": {
    "collapsed": true
   },
   "outputs": [],
   "source": [
    "bl_collabs['totalCollabs'] = bl_collabs.BL_ID.apply(getTotalCollabsByBuilding)"
   ]
  },
  {
   "cell_type": "markdown",
   "metadata": {},
   "source": [
    "#### read in table linking building IDs to building names"
   ]
  },
  {
   "cell_type": "code",
   "execution_count": 46,
   "metadata": {
    "collapsed": false
   },
   "outputs": [],
   "source": [
    "bldgNames = pd.read_table('data/processed/buildingNames.tsv', sep='\\t')"
   ]
  },
  {
   "cell_type": "code",
   "execution_count": 49,
   "metadata": {
    "collapsed": false
   },
   "outputs": [
    {
     "data": {
      "text/plain": [
       "array([7201, 7202, 7224, 7251, 7261, 7501, 7506, 7507, 7508, 7512])"
      ]
     },
     "execution_count": 49,
     "metadata": {},
     "output_type": "execute_result"
    }
   ],
   "source": [
    "unique_bldgs[:10]"
   ]
  },
  {
   "cell_type": "markdown",
   "metadata": {},
   "source": [
    "#### write the karyotype file"
   ]
  },
  {
   "cell_type": "code",
   "execution_count": 150,
   "metadata": {
    "collapsed": false
   },
   "outputs": [],
   "source": [
    "f = open('vis/circos/buildings/buildings_karyotype.txt', 'w')\n",
    "for bl_id in unique_bldgs:\n",
    "    \n",
    "    # get building name\n",
    "    this_bl_name = bldgNames.loc[bldgNames.BL_ID == bl_id, 'NAME'].iloc[0]\n",
    "    \n",
    "    # get total collaborations for this building\n",
    "    this_bl_totalCollabs = str(bl_collabs.loc[bl_collabs.BL_ID == bl_id, 'totalCollabs'].iloc[0])\n",
    "    \n",
    "    # write this \"chromosome\" (i.e. building) to the karotype file\n",
    "    this_chr = '\\t'.join(['chr', '-', str(bl_id), this_bl_name, '0', this_bl_totalCollabs, 'lpurple'])\n",
    "    f.write(this_chr+'\\n')\n",
    "f.close()"
   ]
  },
  {
   "cell_type": "markdown",
   "metadata": {},
   "source": [
    "#### Make the links representing total collaborations between buildings"
   ]
  },
  {
   "cell_type": "code",
   "execution_count": 151,
   "metadata": {
    "collapsed": false
   },
   "outputs": [],
   "source": [
    "# class to store the positional count for each building\n",
    "class Building:\n",
    "    def __init__(self, id):\n",
    "        self.ID = id\n",
    "        self.currentPosition = 0\n",
    "    \n",
    "    def getCurrentPosition(self):\n",
    "        return self.currentPosition\n",
    "    \n",
    "    # increment the current position by set amount\n",
    "    def setNewPosition(self, position):\n",
    "        self.currentPosition = position\n",
    "\n",
    "        \n",
    "# functions for getting and setting the current position of the building objects\n",
    "def getCurrentPosition(BL_ID):\n",
    "    for b in bl_objects:\n",
    "        if b.ID == BL_ID:\n",
    "            return int(b.getCurrentPosition())\n",
    "        \n",
    "def setCurrentPosition(BL_ID, posIncrement):\n",
    "    for b in bl_objects:\n",
    "        if b.ID == BL_ID:\n",
    "            b.setNewPosition(posIncrement)\n",
    "            \n",
    "# function for tabulating total number of unique collaborations between buildings\n",
    "def getTotalCollabs(b1, b2):\n",
    "    total_collabs = 0\n",
    "    b1_b2_collabs = uniqueCollabs.loc[(uniqueCollabs.a1_BL_ID == b1) & (uniqueCollabs.a2_BL_ID==b2), :]\n",
    "    b2_b1_collabs = uniqueCollabs.loc[(uniqueCollabs.a1_BL_ID == b2) & (uniqueCollabs.a2_BL_ID==b1), :]\n",
    "    total_collabs = b1_b2_collabs.shape[0] + b2_b1_collabs.shape[0]\n",
    "    return total_collabs"
   ]
  },
  {
   "cell_type": "code",
   "execution_count": 152,
   "metadata": {
    "collapsed": false
   },
   "outputs": [],
   "source": [
    "# turn each building into an object, store all objects in list\n",
    "bl_objects = []\n",
    "for bl_id in unique_bldgs: \n",
    "    bl_objects.append(Building(bl_id))\n",
    "\n",
    "\n",
    "f = open('vis/circos/buildings/building_links.txt', 'w')\n",
    "\n",
    "# loop through the unique collaborations\n",
    "test = np.array([7201, 7508])\n",
    "for b1, b2 in itertools.combinations(unique_bldgs, 2):\n",
    "        \n",
    "    # get the total number of unique collaborations that came from these 2 buildings\n",
    "    totalCollabs = getTotalCollabs(b1, b2)\n",
    "    if totalCollabs > 0:\n",
    "        # find current positions\n",
    "        b1_start = int(getCurrentPosition(b1))\n",
    "        b2_start = int(getCurrentPosition(b2))\n",
    "\n",
    "        # get end positions, set new positions for the building class\n",
    "        b1_end = int(b1_start + totalCollabs)\n",
    "        b2_end = int(b2_start + totalCollabs)\n",
    "        setCurrentPosition(b1, b1_end)\n",
    "        setCurrentPosition(b2, b2_end)\n",
    "\n",
    "        # write link\n",
    "        this_link = '\\t'.join([str(b1), str(b1_start), str(b1_end), str(b2), str(b2_start), str(b2_end)])\n",
    "        f.write(this_link + '\\n')\n",
    "f.close()"
   ]
  },
  {
   "cell_type": "code",
   "execution_count": 141,
   "metadata": {
    "collapsed": false
   },
   "outputs": [
    {
     "data": {
      "text/plain": [
       "2"
      ]
     },
     "execution_count": 141,
     "metadata": {},
     "output_type": "execute_result"
    }
   ],
   "source": [
    "getCurrentPosition(7201)"
   ]
  },
  {
   "cell_type": "code",
   "execution_count": 114,
   "metadata": {
    "collapsed": false
   },
   "outputs": [
    {
     "data": {
      "text/plain": [
       "array([7201, 7202, 7224, 7251, 7261, 7501, 7506, 7507, 7508, 7512, 7513,\n",
       "       7514, 7515, 7516, 7530, 7531, 7534, 7540, 7545, 7548, 7549, 7550,\n",
       "       7560, 7576, 7579, 7593, 7705, 7706, 7709, 7710, 7735, 7738, 7739,\n",
       "       7747, 7749, 7753, 7754, 7756, 7758, 7759, 7760, 7765, 7776, 8084,\n",
       "       8116, 8141, 8166, 8239, 8304])"
      ]
     },
     "execution_count": 114,
     "metadata": {},
     "output_type": "execute_result"
    }
   ],
   "source": [
    "unique_bldgs"
   ]
  },
  {
   "cell_type": "code",
   "execution_count": 111,
   "metadata": {
    "collapsed": false
   },
   "outputs": [
    {
     "data": {
      "text/html": [
       "<div>\n",
       "<table border=\"1\" class=\"dataframe\">\n",
       "  <thead>\n",
       "    <tr style=\"text-align: right;\">\n",
       "      <th></th>\n",
       "      <th>a1</th>\n",
       "      <th>a2</th>\n",
       "      <th>a1_BL_ID</th>\n",
       "      <th>a2_BL_ID</th>\n",
       "      <th>totalCollabs</th>\n",
       "      <th>collaborated</th>\n",
       "      <th>distance</th>\n",
       "      <th>duration</th>\n",
       "      <th>a2_LAT</th>\n",
       "      <th>a2_LON</th>\n",
       "      <th>a1_LAT</th>\n",
       "      <th>a1_LON</th>\n",
       "    </tr>\n",
       "  </thead>\n",
       "  <tbody>\n",
       "    <tr>\n",
       "      <th>0</th>\n",
       "      <td>1080</td>\n",
       "      <td>15649</td>\n",
       "      <td>7508</td>\n",
       "      <td>8141</td>\n",
       "      <td>1</td>\n",
       "      <td>1</td>\n",
       "      <td>1016</td>\n",
       "      <td>758</td>\n",
       "      <td>36.009519</td>\n",
       "      <td>-78.941601</td>\n",
       "      <td>36.003337</td>\n",
       "      <td>-78.935915</td>\n",
       "    </tr>\n",
       "    <tr>\n",
       "      <th>2</th>\n",
       "      <td>1080</td>\n",
       "      <td>45508</td>\n",
       "      <td>7508</td>\n",
       "      <td>8141</td>\n",
       "      <td>3</td>\n",
       "      <td>1</td>\n",
       "      <td>1016</td>\n",
       "      <td>758</td>\n",
       "      <td>36.009519</td>\n",
       "      <td>-78.941601</td>\n",
       "      <td>36.003337</td>\n",
       "      <td>-78.935915</td>\n",
       "    </tr>\n",
       "    <tr>\n",
       "      <th>5</th>\n",
       "      <td>1080</td>\n",
       "      <td>62399</td>\n",
       "      <td>7508</td>\n",
       "      <td>7516</td>\n",
       "      <td>9</td>\n",
       "      <td>1</td>\n",
       "      <td>1110</td>\n",
       "      <td>883</td>\n",
       "      <td>36.007164</td>\n",
       "      <td>-78.940748</td>\n",
       "      <td>36.003337</td>\n",
       "      <td>-78.935915</td>\n",
       "    </tr>\n",
       "    <tr>\n",
       "      <th>6</th>\n",
       "      <td>1080</td>\n",
       "      <td>83945</td>\n",
       "      <td>7508</td>\n",
       "      <td>7516</td>\n",
       "      <td>2</td>\n",
       "      <td>1</td>\n",
       "      <td>1110</td>\n",
       "      <td>883</td>\n",
       "      <td>36.007164</td>\n",
       "      <td>-78.940748</td>\n",
       "      <td>36.003337</td>\n",
       "      <td>-78.935915</td>\n",
       "    </tr>\n",
       "    <tr>\n",
       "      <th>7</th>\n",
       "      <td>1080</td>\n",
       "      <td>95795</td>\n",
       "      <td>7508</td>\n",
       "      <td>8141</td>\n",
       "      <td>1</td>\n",
       "      <td>1</td>\n",
       "      <td>1016</td>\n",
       "      <td>758</td>\n",
       "      <td>36.009519</td>\n",
       "      <td>-78.941601</td>\n",
       "      <td>36.003337</td>\n",
       "      <td>-78.935915</td>\n",
       "    </tr>\n",
       "  </tbody>\n",
       "</table>\n",
       "</div>"
      ],
      "text/plain": [
       "     a1     a2  a1_BL_ID  a2_BL_ID  totalCollabs  collaborated  distance  \\\n",
       "0  1080  15649      7508      8141             1             1      1016   \n",
       "2  1080  45508      7508      8141             3             1      1016   \n",
       "5  1080  62399      7508      7516             9             1      1110   \n",
       "6  1080  83945      7508      7516             2             1      1110   \n",
       "7  1080  95795      7508      8141             1             1      1016   \n",
       "\n",
       "   duration     a2_LAT     a2_LON     a1_LAT     a1_LON  \n",
       "0       758  36.009519 -78.941601  36.003337 -78.935915  \n",
       "2       758  36.009519 -78.941601  36.003337 -78.935915  \n",
       "5       883  36.007164 -78.940748  36.003337 -78.935915  \n",
       "6       883  36.007164 -78.940748  36.003337 -78.935915  \n",
       "7       758  36.009519 -78.941601  36.003337 -78.935915  "
      ]
     },
     "execution_count": 111,
     "metadata": {},
     "output_type": "execute_result"
    }
   ],
   "source": [
    "uniqueCollabs.head()"
   ]
  },
  {
   "cell_type": "code",
   "execution_count": 65,
   "metadata": {
    "collapsed": true
   },
   "outputs": [],
   "source": [
    "a.currentPosition = 10"
   ]
  },
  {
   "cell_type": "code",
   "execution_count": 66,
   "metadata": {
    "collapsed": false
   },
   "outputs": [
    {
     "data": {
      "text/plain": [
       "10"
      ]
     },
     "execution_count": 66,
     "metadata": {},
     "output_type": "execute_result"
    }
   ],
   "source": [
    "a.currentPosition"
   ]
  },
  {
   "cell_type": "code",
   "execution_count": 13,
   "metadata": {
    "collapsed": false
   },
   "outputs": [
    {
     "ename": "NameError",
     "evalue": "name 'collab_df' is not defined",
     "output_type": "error",
     "traceback": [
      "\u001b[0;31m---------------------------------------------------------------------------\u001b[0m",
      "\u001b[0;31mNameError\u001b[0m                                 Traceback (most recent call last)",
      "\u001b[0;32m<ipython-input-13-c73786f69805>\u001b[0m in \u001b[0;36m<module>\u001b[0;34m()\u001b[0m\n\u001b[0;32m----> 1\u001b[0;31m \u001b[0mcollab_df\u001b[0m\u001b[0;34m.\u001b[0m\u001b[0mhead\u001b[0m\u001b[0;34m(\u001b[0m\u001b[0;34m)\u001b[0m\u001b[0;34m\u001b[0m\u001b[0m\n\u001b[0m",
      "\u001b[0;31mNameError\u001b[0m: name 'collab_df' is not defined"
     ]
    }
   ],
   "source": [
    "collab_df.head()"
   ]
  }
 ],
 "metadata": {
  "kernelspec": {
   "display_name": "Python 2",
   "language": "python",
   "name": "python2"
  },
  "language_info": {
   "codemirror_mode": {
    "name": "ipython",
    "version": 2
   },
   "file_extension": ".py",
   "mimetype": "text/x-python",
   "name": "python",
   "nbconvert_exporter": "python",
   "pygments_lexer": "ipython2",
   "version": "2.7.11"
  }
 },
 "nbformat": 4,
 "nbformat_minor": 0
}
