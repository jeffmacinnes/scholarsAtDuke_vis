{
 "cells": [
  {
   "cell_type": "code",
   "execution_count": 1,
   "metadata": {
    "collapsed": true
   },
   "outputs": [],
   "source": [
    "import os\n",
    "import sys\n",
    "from os.path import join\n",
    "import pandas as pd\n",
    "import numpy as np\n",
    "import time"
   ]
  },
  {
   "cell_type": "code",
   "execution_count": 2,
   "metadata": {
    "collapsed": false
   },
   "outputs": [
    {
     "name": "stdout",
     "output_type": "stream",
     "text": [
      "Populating the interactive namespace from numpy and matplotlib\n"
     ]
    }
   ],
   "source": [
    "%pylab inline"
   ]
  },
  {
   "cell_type": "markdown",
   "metadata": {},
   "source": [
    "# Vis prep\n",
    "Additonal filtering of the completed collaborations dataframe for purposes of the vizualization"
   ]
  },
  {
   "cell_type": "code",
   "execution_count": 3,
   "metadata": {
    "collapsed": true
   },
   "outputs": [],
   "source": [
    "# read in dataframe\n",
    "df = pd.read_table('data/processed/collaborations.tsv', sep='\\t')"
   ]
  },
  {
   "cell_type": "code",
   "execution_count": 33,
   "metadata": {
    "collapsed": false
   },
   "outputs": [
    {
     "data": {
      "text/plain": [
       "(50153, 33)"
      ]
     },
     "execution_count": 33,
     "metadata": {},
     "output_type": "execute_result"
    }
   ],
   "source": [
    "df.shape"
   ]
  },
  {
   "cell_type": "code",
   "execution_count": 4,
   "metadata": {
    "collapsed": false
   },
   "outputs": [
    {
     "data": {
      "text/html": [
       "<div>\n",
       "<table border=\"1\" class=\"dataframe\">\n",
       "  <thead>\n",
       "    <tr style=\"text-align: right;\">\n",
       "      <th></th>\n",
       "      <th>PUBLICATION_ID</th>\n",
       "      <th>PUBLICATION_TYPE</th>\n",
       "      <th>PUBLICATION_URI</th>\n",
       "      <th>PUBLISHED_DATE</th>\n",
       "      <th>TOTAL_AUTHORS</th>\n",
       "      <th>dst_DUID</th>\n",
       "      <th>dst_FIRST_NAME</th>\n",
       "      <th>dst_LAST_NAME</th>\n",
       "      <th>dst_MIDDLE_NAME</th>\n",
       "      <th>src_DUID</th>\n",
       "      <th>...</th>\n",
       "      <th>src_LAT</th>\n",
       "      <th>dst_ADDRESS</th>\n",
       "      <th>dst_CITY</th>\n",
       "      <th>dst_ZIP</th>\n",
       "      <th>dst_LON</th>\n",
       "      <th>dst_LAT</th>\n",
       "      <th>distance</th>\n",
       "      <th>duration</th>\n",
       "      <th>transportMode</th>\n",
       "      <th>crowDistance</th>\n",
       "    </tr>\n",
       "  </thead>\n",
       "  <tbody>\n",
       "    <tr>\n",
       "      <th>0</th>\n",
       "      <td>0</td>\n",
       "      <td>Journal Article</td>\n",
       "      <td>https://scholars.duke.edu/individual/pub1000033</td>\n",
       "      <td>5/1/2013 12:00:00 AM</td>\n",
       "      <td>2</td>\n",
       "      <td>272070</td>\n",
       "      <td>Shelby</td>\n",
       "      <td>Reed</td>\n",
       "      <td>Derene</td>\n",
       "      <td>99016</td>\n",
       "      <td>...</td>\n",
       "      <td>36.003337</td>\n",
       "      <td>40 Duke Medicine Cir</td>\n",
       "      <td>DURHAM</td>\n",
       "      <td>27705</td>\n",
       "      <td>-78.935915</td>\n",
       "      <td>36.003337</td>\n",
       "      <td>0.0</td>\n",
       "      <td>0.0</td>\n",
       "      <td>walk</td>\n",
       "      <td>0.000000</td>\n",
       "    </tr>\n",
       "    <tr>\n",
       "      <th>1</th>\n",
       "      <td>1</td>\n",
       "      <td>Journal Article</td>\n",
       "      <td>https://scholars.duke.edu/individual/pub1000035</td>\n",
       "      <td>7/1/2013 12:00:00 AM</td>\n",
       "      <td>2</td>\n",
       "      <td>591120</td>\n",
       "      <td>John</td>\n",
       "      <td>Reynolds</td>\n",
       "      <td>Michael</td>\n",
       "      <td>119821</td>\n",
       "      <td>...</td>\n",
       "      <td>36.003337</td>\n",
       "      <td>40 Duke Medicine Cir</td>\n",
       "      <td>DURHAM</td>\n",
       "      <td>27705</td>\n",
       "      <td>-78.935915</td>\n",
       "      <td>36.003337</td>\n",
       "      <td>0.0</td>\n",
       "      <td>0.0</td>\n",
       "      <td>walk</td>\n",
       "      <td>0.000000</td>\n",
       "    </tr>\n",
       "    <tr>\n",
       "      <th>2</th>\n",
       "      <td>2</td>\n",
       "      <td>Journal Article</td>\n",
       "      <td>https://scholars.duke.edu/individual/pub1000091</td>\n",
       "      <td>10/3/2012 12:00:00 AM</td>\n",
       "      <td>2</td>\n",
       "      <td>98973</td>\n",
       "      <td>John</td>\n",
       "      <td>Alexander</td>\n",
       "      <td>Hunter Peel</td>\n",
       "      <td>314783</td>\n",
       "      <td>...</td>\n",
       "      <td>36.003337</td>\n",
       "      <td>40 Duke Medicine Cir</td>\n",
       "      <td>DURHAM</td>\n",
       "      <td>27705</td>\n",
       "      <td>-78.935915</td>\n",
       "      <td>36.003337</td>\n",
       "      <td>0.0</td>\n",
       "      <td>0.0</td>\n",
       "      <td>walk</td>\n",
       "      <td>0.000000</td>\n",
       "    </tr>\n",
       "    <tr>\n",
       "      <th>3</th>\n",
       "      <td>3</td>\n",
       "      <td>Journal Article</td>\n",
       "      <td>https://scholars.duke.edu/individual/pub1000099</td>\n",
       "      <td>11/1/2013 12:00:00 AM</td>\n",
       "      <td>2</td>\n",
       "      <td>449347</td>\n",
       "      <td>Endi</td>\n",
       "      <td>Wang</td>\n",
       "      <td>NaN</td>\n",
       "      <td>435364</td>\n",
       "      <td>...</td>\n",
       "      <td>36.003063</td>\n",
       "      <td>40 Duke Medicine Cir</td>\n",
       "      <td>DURHAM</td>\n",
       "      <td>27705</td>\n",
       "      <td>-78.936950</td>\n",
       "      <td>36.003063</td>\n",
       "      <td>0.0</td>\n",
       "      <td>0.0</td>\n",
       "      <td>walk</td>\n",
       "      <td>0.000000</td>\n",
       "    </tr>\n",
       "    <tr>\n",
       "      <th>4</th>\n",
       "      <td>4</td>\n",
       "      <td>Journal Article</td>\n",
       "      <td>https://scholars.duke.edu/individual/pub1000158</td>\n",
       "      <td>1/1/2013 12:00:00 AM</td>\n",
       "      <td>3</td>\n",
       "      <td>135843</td>\n",
       "      <td>Evan</td>\n",
       "      <td>Myers</td>\n",
       "      <td>Robert</td>\n",
       "      <td>373496</td>\n",
       "      <td>...</td>\n",
       "      <td>36.007164</td>\n",
       "      <td>40 Duke Medicine Cir</td>\n",
       "      <td>DURHAM</td>\n",
       "      <td>27705</td>\n",
       "      <td>-78.935105</td>\n",
       "      <td>36.003996</td>\n",
       "      <td>1110.0</td>\n",
       "      <td>883.0</td>\n",
       "      <td>walk</td>\n",
       "      <td>618.435335</td>\n",
       "    </tr>\n",
       "  </tbody>\n",
       "</table>\n",
       "<p>5 rows × 33 columns</p>\n",
       "</div>"
      ],
      "text/plain": [
       "   PUBLICATION_ID PUBLICATION_TYPE  \\\n",
       "0               0  Journal Article   \n",
       "1               1  Journal Article   \n",
       "2               2  Journal Article   \n",
       "3               3  Journal Article   \n",
       "4               4  Journal Article   \n",
       "\n",
       "                                   PUBLICATION_URI         PUBLISHED_DATE  \\\n",
       "0  https://scholars.duke.edu/individual/pub1000033   5/1/2013 12:00:00 AM   \n",
       "1  https://scholars.duke.edu/individual/pub1000035   7/1/2013 12:00:00 AM   \n",
       "2  https://scholars.duke.edu/individual/pub1000091  10/3/2012 12:00:00 AM   \n",
       "3  https://scholars.duke.edu/individual/pub1000099  11/1/2013 12:00:00 AM   \n",
       "4  https://scholars.duke.edu/individual/pub1000158   1/1/2013 12:00:00 AM   \n",
       "\n",
       "   TOTAL_AUTHORS  dst_DUID dst_FIRST_NAME dst_LAST_NAME dst_MIDDLE_NAME  \\\n",
       "0              2    272070         Shelby          Reed          Derene   \n",
       "1              2    591120           John      Reynolds         Michael   \n",
       "2              2     98973           John     Alexander     Hunter Peel   \n",
       "3              2    449347           Endi          Wang             NaN   \n",
       "4              3    135843           Evan         Myers          Robert   \n",
       "\n",
       "   src_DUID     ...         src_LAT           dst_ADDRESS dst_CITY  dst_ZIP  \\\n",
       "0     99016     ...       36.003337  40 Duke Medicine Cir   DURHAM    27705   \n",
       "1    119821     ...       36.003337  40 Duke Medicine Cir   DURHAM    27705   \n",
       "2    314783     ...       36.003337  40 Duke Medicine Cir   DURHAM    27705   \n",
       "3    435364     ...       36.003063  40 Duke Medicine Cir   DURHAM    27705   \n",
       "4    373496     ...       36.007164  40 Duke Medicine Cir   DURHAM    27705   \n",
       "\n",
       "     dst_LON    dst_LAT  distance  duration  transportMode crowDistance  \n",
       "0 -78.935915  36.003337       0.0       0.0           walk     0.000000  \n",
       "1 -78.935915  36.003337       0.0       0.0           walk     0.000000  \n",
       "2 -78.935915  36.003337       0.0       0.0           walk     0.000000  \n",
       "3 -78.936950  36.003063       0.0       0.0           walk     0.000000  \n",
       "4 -78.935105  36.003996    1110.0     883.0           walk   618.435335  \n",
       "\n",
       "[5 rows x 33 columns]"
      ]
     },
     "execution_count": 4,
     "metadata": {},
     "output_type": "execute_result"
    }
   ],
   "source": [
    "df.head()"
   ]
  },
  {
   "cell_type": "markdown",
   "metadata": {},
   "source": [
    "### Filter out locations that are far outside campus/downtown durham\n",
    "from looking at an early visualization of all data, there is one site in particular that is pretty far south and east. Remove any collaboration with a source or destination at this remote site for the purposes of the visualization. "
   ]
  },
  {
   "cell_type": "code",
   "execution_count": 15,
   "metadata": {
    "collapsed": false
   },
   "outputs": [
    {
     "name": "stdout",
     "output_type": "stream",
     "text": [
      "35.9220293709\n",
      "-78.8691705465\n"
     ]
    }
   ],
   "source": [
    "# most southernly\n",
    "print df['dst_LAT'].min()\n",
    "\n",
    "# most easternly\n",
    "print df['dst_LON'].max()"
   ]
  },
  {
   "cell_type": "code",
   "execution_count": 34,
   "metadata": {
    "collapsed": false
   },
   "outputs": [
    {
     "data": {
      "text/plain": [
       "'19 TW Alexander Dr'"
      ]
     },
     "execution_count": 34,
     "metadata": {},
     "output_type": "execute_result"
    }
   ],
   "source": [
    "# Find the Address of this location\n",
    "remoteAddress = df.loc[df.dst_LAT == df.dst_LAT.min(), 'dst_ADDRESS'].iloc[0]\n",
    "remoteAddress"
   ]
  },
  {
   "cell_type": "code",
   "execution_count": 32,
   "metadata": {
    "collapsed": false
   },
   "outputs": [
    {
     "data": {
      "text/plain": [
       "(200, 33)"
      ]
     },
     "execution_count": 32,
     "metadata": {},
     "output_type": "execute_result"
    }
   ],
   "source": [
    "# how many collaborations include this location?\n",
    "df.loc[(df.dst_ADDRESS == remoteAddress) | (df.src_ADDRESS == remoteAddress)].shape"
   ]
  },
  {
   "cell_type": "code",
   "execution_count": 35,
   "metadata": {
    "collapsed": false
   },
   "outputs": [
    {
     "data": {
      "text/plain": [
       "(49953, 33)"
      ]
     },
     "execution_count": 35,
     "metadata": {},
     "output_type": "execute_result"
    }
   ],
   "source": [
    "# remove\n",
    "df = df[df.dst_ADDRESS != remoteAddress]\n",
    "df = df[df.src_ADDRESS != remoteAddress]\n",
    "\n",
    "df.shape"
   ]
  },
  {
   "cell_type": "markdown",
   "metadata": {},
   "source": [
    "### Filter out any collaborations that exist within the exact same location (i.e. src == dst)"
   ]
  },
  {
   "cell_type": "code",
   "execution_count": 36,
   "metadata": {
    "collapsed": false
   },
   "outputs": [
    {
     "data": {
      "text/plain": [
       "(18319, 33)"
      ]
     },
     "execution_count": 36,
     "metadata": {},
     "output_type": "execute_result"
    }
   ],
   "source": [
    "df = df[df.distance > 0]\n",
    "\n",
    "df.shape"
   ]
  },
  {
   "cell_type": "markdown",
   "metadata": {},
   "source": [
    "### Write the filtered vis data to a file\n"
   ]
  },
  {
   "cell_type": "code",
   "execution_count": 38,
   "metadata": {
    "collapsed": false
   },
   "outputs": [],
   "source": [
    "df.to_csv('vis/vis_collaborations.tsv', sep='\\t', index=False)"
   ]
  }
 ],
 "metadata": {
  "kernelspec": {
   "display_name": "Python 2",
   "language": "python",
   "name": "python2"
  },
  "language_info": {
   "codemirror_mode": {
    "name": "ipython",
    "version": 2
   },
   "file_extension": ".py",
   "mimetype": "text/x-python",
   "name": "python",
   "nbconvert_exporter": "python",
   "pygments_lexer": "ipython2",
   "version": "2.7.11"
  }
 },
 "nbformat": 4,
 "nbformat_minor": 0
}
