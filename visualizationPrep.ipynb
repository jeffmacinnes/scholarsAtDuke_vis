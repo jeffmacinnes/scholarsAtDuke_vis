{
 "cells": [
  {
   "cell_type": "code",
   "execution_count": 2,
   "metadata": {
    "collapsed": true
   },
   "outputs": [],
   "source": [
    "import os\n",
    "import sys\n",
    "from os.path import join\n",
    "import pandas as pd\n",
    "import numpy as np\n",
    "import time"
   ]
  },
  {
   "cell_type": "code",
   "execution_count": 3,
   "metadata": {
    "collapsed": false
   },
   "outputs": [
    {
     "name": "stdout",
     "output_type": "stream",
     "text": [
      "Populating the interactive namespace from numpy and matplotlib\n"
     ]
    }
   ],
   "source": [
    "%pylab inline"
   ]
  },
  {
   "cell_type": "markdown",
   "metadata": {},
   "source": [
    "## read original source data"
   ]
  },
  {
   "cell_type": "code",
   "execution_count": 90,
   "metadata": {
    "collapsed": true
   },
   "outputs": [],
   "source": [
    "# read in dataframe\n",
    "collab_df = pd.read_table('data/processed/collaborations.tsv', sep='\\t')"
   ]
  },
  {
   "cell_type": "code",
   "execution_count": 91,
   "metadata": {
    "collapsed": false
   },
   "outputs": [
    {
     "data": {
      "text/plain": [
       "(50153, 33)"
      ]
     },
     "execution_count": 91,
     "metadata": {},
     "output_type": "execute_result"
    }
   ],
   "source": [
    "collab_df.shape"
   ]
  },
  {
   "cell_type": "code",
   "execution_count": 92,
   "metadata": {
    "collapsed": false
   },
   "outputs": [
    {
     "data": {
      "text/html": [
       "<div>\n",
       "<table border=\"1\" class=\"dataframe\">\n",
       "  <thead>\n",
       "    <tr style=\"text-align: right;\">\n",
       "      <th></th>\n",
       "      <th>PUBLICATION_ID</th>\n",
       "      <th>PUBLICATION_TYPE</th>\n",
       "      <th>PUBLICATION_URI</th>\n",
       "      <th>PUBLISHED_DATE</th>\n",
       "      <th>TOTAL_AUTHORS</th>\n",
       "      <th>dst_DUID</th>\n",
       "      <th>dst_FIRST_NAME</th>\n",
       "      <th>dst_LAST_NAME</th>\n",
       "      <th>dst_MIDDLE_NAME</th>\n",
       "      <th>src_DUID</th>\n",
       "      <th>...</th>\n",
       "      <th>src_LAT</th>\n",
       "      <th>dst_ADDRESS</th>\n",
       "      <th>dst_CITY</th>\n",
       "      <th>dst_ZIP</th>\n",
       "      <th>dst_LON</th>\n",
       "      <th>dst_LAT</th>\n",
       "      <th>distance</th>\n",
       "      <th>duration</th>\n",
       "      <th>transportMode</th>\n",
       "      <th>crowDistance</th>\n",
       "    </tr>\n",
       "  </thead>\n",
       "  <tbody>\n",
       "    <tr>\n",
       "      <th>0</th>\n",
       "      <td>0</td>\n",
       "      <td>Journal Article</td>\n",
       "      <td>https://scholars.duke.edu/individual/pub1000033</td>\n",
       "      <td>5/1/2013 12:00:00 AM</td>\n",
       "      <td>2</td>\n",
       "      <td>272070</td>\n",
       "      <td>Shelby</td>\n",
       "      <td>Reed</td>\n",
       "      <td>Derene</td>\n",
       "      <td>99016</td>\n",
       "      <td>...</td>\n",
       "      <td>36.003337</td>\n",
       "      <td>40 Duke Medicine Cir</td>\n",
       "      <td>DURHAM</td>\n",
       "      <td>27705</td>\n",
       "      <td>-78.935915</td>\n",
       "      <td>36.003337</td>\n",
       "      <td>0.0</td>\n",
       "      <td>0.0</td>\n",
       "      <td>walk</td>\n",
       "      <td>0.000000</td>\n",
       "    </tr>\n",
       "    <tr>\n",
       "      <th>1</th>\n",
       "      <td>1</td>\n",
       "      <td>Journal Article</td>\n",
       "      <td>https://scholars.duke.edu/individual/pub1000035</td>\n",
       "      <td>7/1/2013 12:00:00 AM</td>\n",
       "      <td>2</td>\n",
       "      <td>591120</td>\n",
       "      <td>John</td>\n",
       "      <td>Reynolds</td>\n",
       "      <td>Michael</td>\n",
       "      <td>119821</td>\n",
       "      <td>...</td>\n",
       "      <td>36.003337</td>\n",
       "      <td>40 Duke Medicine Cir</td>\n",
       "      <td>DURHAM</td>\n",
       "      <td>27705</td>\n",
       "      <td>-78.935915</td>\n",
       "      <td>36.003337</td>\n",
       "      <td>0.0</td>\n",
       "      <td>0.0</td>\n",
       "      <td>walk</td>\n",
       "      <td>0.000000</td>\n",
       "    </tr>\n",
       "    <tr>\n",
       "      <th>2</th>\n",
       "      <td>2</td>\n",
       "      <td>Journal Article</td>\n",
       "      <td>https://scholars.duke.edu/individual/pub1000091</td>\n",
       "      <td>10/3/2012 12:00:00 AM</td>\n",
       "      <td>2</td>\n",
       "      <td>98973</td>\n",
       "      <td>John</td>\n",
       "      <td>Alexander</td>\n",
       "      <td>Hunter Peel</td>\n",
       "      <td>314783</td>\n",
       "      <td>...</td>\n",
       "      <td>36.003337</td>\n",
       "      <td>40 Duke Medicine Cir</td>\n",
       "      <td>DURHAM</td>\n",
       "      <td>27705</td>\n",
       "      <td>-78.935915</td>\n",
       "      <td>36.003337</td>\n",
       "      <td>0.0</td>\n",
       "      <td>0.0</td>\n",
       "      <td>walk</td>\n",
       "      <td>0.000000</td>\n",
       "    </tr>\n",
       "    <tr>\n",
       "      <th>3</th>\n",
       "      <td>3</td>\n",
       "      <td>Journal Article</td>\n",
       "      <td>https://scholars.duke.edu/individual/pub1000099</td>\n",
       "      <td>11/1/2013 12:00:00 AM</td>\n",
       "      <td>2</td>\n",
       "      <td>449347</td>\n",
       "      <td>Endi</td>\n",
       "      <td>Wang</td>\n",
       "      <td>NaN</td>\n",
       "      <td>435364</td>\n",
       "      <td>...</td>\n",
       "      <td>36.003063</td>\n",
       "      <td>40 Duke Medicine Cir</td>\n",
       "      <td>DURHAM</td>\n",
       "      <td>27705</td>\n",
       "      <td>-78.936950</td>\n",
       "      <td>36.003063</td>\n",
       "      <td>0.0</td>\n",
       "      <td>0.0</td>\n",
       "      <td>walk</td>\n",
       "      <td>0.000000</td>\n",
       "    </tr>\n",
       "    <tr>\n",
       "      <th>4</th>\n",
       "      <td>4</td>\n",
       "      <td>Journal Article</td>\n",
       "      <td>https://scholars.duke.edu/individual/pub1000158</td>\n",
       "      <td>1/1/2013 12:00:00 AM</td>\n",
       "      <td>3</td>\n",
       "      <td>135843</td>\n",
       "      <td>Evan</td>\n",
       "      <td>Myers</td>\n",
       "      <td>Robert</td>\n",
       "      <td>373496</td>\n",
       "      <td>...</td>\n",
       "      <td>36.007164</td>\n",
       "      <td>40 Duke Medicine Cir</td>\n",
       "      <td>DURHAM</td>\n",
       "      <td>27705</td>\n",
       "      <td>-78.935105</td>\n",
       "      <td>36.003996</td>\n",
       "      <td>1110.0</td>\n",
       "      <td>883.0</td>\n",
       "      <td>walk</td>\n",
       "      <td>618.435335</td>\n",
       "    </tr>\n",
       "  </tbody>\n",
       "</table>\n",
       "<p>5 rows × 33 columns</p>\n",
       "</div>"
      ],
      "text/plain": [
       "   PUBLICATION_ID PUBLICATION_TYPE  \\\n",
       "0               0  Journal Article   \n",
       "1               1  Journal Article   \n",
       "2               2  Journal Article   \n",
       "3               3  Journal Article   \n",
       "4               4  Journal Article   \n",
       "\n",
       "                                   PUBLICATION_URI         PUBLISHED_DATE  \\\n",
       "0  https://scholars.duke.edu/individual/pub1000033   5/1/2013 12:00:00 AM   \n",
       "1  https://scholars.duke.edu/individual/pub1000035   7/1/2013 12:00:00 AM   \n",
       "2  https://scholars.duke.edu/individual/pub1000091  10/3/2012 12:00:00 AM   \n",
       "3  https://scholars.duke.edu/individual/pub1000099  11/1/2013 12:00:00 AM   \n",
       "4  https://scholars.duke.edu/individual/pub1000158   1/1/2013 12:00:00 AM   \n",
       "\n",
       "   TOTAL_AUTHORS  dst_DUID dst_FIRST_NAME dst_LAST_NAME dst_MIDDLE_NAME  \\\n",
       "0              2    272070         Shelby          Reed          Derene   \n",
       "1              2    591120           John      Reynolds         Michael   \n",
       "2              2     98973           John     Alexander     Hunter Peel   \n",
       "3              2    449347           Endi          Wang             NaN   \n",
       "4              3    135843           Evan         Myers          Robert   \n",
       "\n",
       "   src_DUID     ...         src_LAT           dst_ADDRESS dst_CITY  dst_ZIP  \\\n",
       "0     99016     ...       36.003337  40 Duke Medicine Cir   DURHAM    27705   \n",
       "1    119821     ...       36.003337  40 Duke Medicine Cir   DURHAM    27705   \n",
       "2    314783     ...       36.003337  40 Duke Medicine Cir   DURHAM    27705   \n",
       "3    435364     ...       36.003063  40 Duke Medicine Cir   DURHAM    27705   \n",
       "4    373496     ...       36.007164  40 Duke Medicine Cir   DURHAM    27705   \n",
       "\n",
       "     dst_LON    dst_LAT  distance  duration  transportMode crowDistance  \n",
       "0 -78.935915  36.003337       0.0       0.0           walk     0.000000  \n",
       "1 -78.935915  36.003337       0.0       0.0           walk     0.000000  \n",
       "2 -78.935915  36.003337       0.0       0.0           walk     0.000000  \n",
       "3 -78.936950  36.003063       0.0       0.0           walk     0.000000  \n",
       "4 -78.935105  36.003996    1110.0     883.0           walk   618.435335  \n",
       "\n",
       "[5 rows x 33 columns]"
      ]
     },
     "execution_count": 92,
     "metadata": {},
     "output_type": "execute_result"
    }
   ],
   "source": [
    "collab_df.head()"
   ]
  },
  {
   "cell_type": "markdown",
   "metadata": {},
   "source": [
    "### Instead of showing every time 2 people collaborated together, create a new table showing unique collaborations"
   ]
  },
  {
   "cell_type": "code",
   "execution_count": 93,
   "metadata": {
    "collapsed": false
   },
   "outputs": [],
   "source": [
    "uniqueCollabs = pd.read_table('data/processed/uniqueCollaborations.tsv', sep=\"\\t\")"
   ]
  },
  {
   "cell_type": "code",
   "execution_count": 94,
   "metadata": {
    "collapsed": false
   },
   "outputs": [
    {
     "data": {
      "text/html": [
       "<div>\n",
       "<table border=\"1\" class=\"dataframe\">\n",
       "  <thead>\n",
       "    <tr style=\"text-align: right;\">\n",
       "      <th></th>\n",
       "      <th>a1</th>\n",
       "      <th>a2</th>\n",
       "      <th>a1_BL_ID</th>\n",
       "      <th>a2_BL_ID</th>\n",
       "      <th>totalCollabs</th>\n",
       "      <th>collaborated</th>\n",
       "      <th>distance</th>\n",
       "      <th>duration</th>\n",
       "    </tr>\n",
       "  </thead>\n",
       "  <tbody>\n",
       "    <tr>\n",
       "      <th>0</th>\n",
       "      <td>1080</td>\n",
       "      <td>15649</td>\n",
       "      <td>7508</td>\n",
       "      <td>8141</td>\n",
       "      <td>1</td>\n",
       "      <td>1</td>\n",
       "      <td>1016</td>\n",
       "      <td>758</td>\n",
       "    </tr>\n",
       "    <tr>\n",
       "      <th>1</th>\n",
       "      <td>1080</td>\n",
       "      <td>21813</td>\n",
       "      <td>7508</td>\n",
       "      <td>7508</td>\n",
       "      <td>45</td>\n",
       "      <td>1</td>\n",
       "      <td>0</td>\n",
       "      <td>0</td>\n",
       "    </tr>\n",
       "    <tr>\n",
       "      <th>2</th>\n",
       "      <td>1080</td>\n",
       "      <td>45508</td>\n",
       "      <td>7508</td>\n",
       "      <td>8141</td>\n",
       "      <td>3</td>\n",
       "      <td>1</td>\n",
       "      <td>1016</td>\n",
       "      <td>758</td>\n",
       "    </tr>\n",
       "    <tr>\n",
       "      <th>3</th>\n",
       "      <td>1080</td>\n",
       "      <td>50834</td>\n",
       "      <td>7508</td>\n",
       "      <td>7508</td>\n",
       "      <td>8</td>\n",
       "      <td>1</td>\n",
       "      <td>0</td>\n",
       "      <td>0</td>\n",
       "    </tr>\n",
       "    <tr>\n",
       "      <th>4</th>\n",
       "      <td>1080</td>\n",
       "      <td>54158</td>\n",
       "      <td>7508</td>\n",
       "      <td>7507</td>\n",
       "      <td>1</td>\n",
       "      <td>1</td>\n",
       "      <td>0</td>\n",
       "      <td>0</td>\n",
       "    </tr>\n",
       "  </tbody>\n",
       "</table>\n",
       "</div>"
      ],
      "text/plain": [
       "     a1     a2  a1_BL_ID  a2_BL_ID  totalCollabs  collaborated  distance  \\\n",
       "0  1080  15649      7508      8141             1             1      1016   \n",
       "1  1080  21813      7508      7508            45             1         0   \n",
       "2  1080  45508      7508      8141             3             1      1016   \n",
       "3  1080  50834      7508      7508             8             1         0   \n",
       "4  1080  54158      7508      7507             1             1         0   \n",
       "\n",
       "   duration  \n",
       "0       758  \n",
       "1         0  \n",
       "2       758  \n",
       "3         0  \n",
       "4         0  "
      ]
     },
     "execution_count": 94,
     "metadata": {},
     "output_type": "execute_result"
    }
   ],
   "source": [
    "uniqueCollabs.head()"
   ]
  },
  {
   "cell_type": "code",
   "execution_count": 95,
   "metadata": {
    "collapsed": false
   },
   "outputs": [
    {
     "name": "stdout",
     "output_type": "stream",
     "text": [
      "There are 7334 unique collaborations with a distance greater than 0\n"
     ]
    }
   ],
   "source": [
    "uniqueCollabs = uniqueCollabs[uniqueCollabs.distance>0]\n",
    "print 'There are %s unique collaborations with a distance greater than 0' % (uniqueCollabs.collaborated.sum())"
   ]
  },
  {
   "cell_type": "code",
   "execution_count": 96,
   "metadata": {
    "collapsed": false
   },
   "outputs": [
    {
     "data": {
      "text/plain": [
       "Index([u'PUBLICATION_ID', u'PUBLICATION_TYPE', u'PUBLICATION_URI',\n",
       "       u'PUBLISHED_DATE', u'TOTAL_AUTHORS', u'dst_DUID', u'dst_FIRST_NAME',\n",
       "       u'dst_LAST_NAME', u'dst_MIDDLE_NAME', u'src_DUID', u'src_FIRST_NAME',\n",
       "       u'src_LAST_NAME', u'src_MIDDLE_NAME', u'src_OrgBFR', u'dst_OrgBFR',\n",
       "       u'src_DUKE_NUMBER', u'dst_DUKE_NUMBER', u'src_BL_ID', u'dst_BL_ID',\n",
       "       u'src_ADDRESS', u'src_CITY', u'src_ZIP', u'src_LON', u'src_LAT',\n",
       "       u'dst_ADDRESS', u'dst_CITY', u'dst_ZIP', u'dst_LON', u'dst_LAT',\n",
       "       u'distance', u'duration', u'transportMode', u'crowDistance'],\n",
       "      dtype='object')"
      ]
     },
     "execution_count": 96,
     "metadata": {},
     "output_type": "execute_result"
    }
   ],
   "source": [
    "collab_df.columns"
   ]
  },
  {
   "cell_type": "code",
   "execution_count": 103,
   "metadata": {
    "collapsed": true
   },
   "outputs": [],
   "source": [
    "def getBuildingLat(bl_id):\n",
    "    # get the latitude of the specified building\n",
    "    if bl_id in collab_df.src_BL_ID.values:\n",
    "        #thisLat = 1\n",
    "        thisLat = collab_df.loc[collab_df.src_BL_ID == bl_id, 'src_LAT'].iloc[0]\n",
    "    else:\n",
    "        #thisLat = 0\n",
    "        thisLat = collab_df.loc[collab_df.dst_BL_ID == bl_id, 'dst_LAT'].iloc[0]\n",
    "\n",
    "    return thisLat\n",
    "\n",
    "def getBuildingLon(bl_id):\n",
    "    # get the Longitude of the specified building\n",
    "    if bl_id in collab_df.src_BL_ID.values:\n",
    "        #thisLon = 1\n",
    "        thisLon = collab_df.loc[collab_df.src_BL_ID == bl_id, 'src_LON'].iloc[0]\n",
    "    else:\n",
    "        #thisLon = 0\n",
    "        thisLon = collab_df.loc[collab_df.dst_BL_ID == bl_id, 'dst_LON'].iloc[0]\n",
    "\n",
    "    return thisLon"
   ]
  },
  {
   "cell_type": "code",
   "execution_count": 107,
   "metadata": {
    "collapsed": false
   },
   "outputs": [],
   "source": [
    "#uniqueCollabs['a1_LAT'] = uniqueCollabs['a1_BL_ID'].apply(getBuildingLat)\n",
    "#uniqueCollabs['a1_LON'] = uniqueCollabs['a1_BL_ID'].apply(getBuildingLon)\n",
    "uniqueCollabs['a2_LAT'] = uniqueCollabs['a2_BL_ID'].apply(getBuildingLat)\n",
    "uniqueCollabs['a2_LON'] = uniqueCollabs['a2_BL_ID'].apply(getBuildingLon)"
   ]
  },
  {
   "cell_type": "code",
   "execution_count": 108,
   "metadata": {
    "collapsed": false
   },
   "outputs": [
    {
     "data": {
      "text/html": [
       "<div>\n",
       "<table border=\"1\" class=\"dataframe\">\n",
       "  <thead>\n",
       "    <tr style=\"text-align: right;\">\n",
       "      <th></th>\n",
       "      <th>a1</th>\n",
       "      <th>a2</th>\n",
       "      <th>a1_BL_ID</th>\n",
       "      <th>a2_BL_ID</th>\n",
       "      <th>totalCollabs</th>\n",
       "      <th>collaborated</th>\n",
       "      <th>distance</th>\n",
       "      <th>duration</th>\n",
       "      <th>a1_LAT</th>\n",
       "      <th>a1_LON</th>\n",
       "      <th>a2_LAT</th>\n",
       "      <th>a2_LON</th>\n",
       "    </tr>\n",
       "  </thead>\n",
       "  <tbody>\n",
       "    <tr>\n",
       "      <th>0</th>\n",
       "      <td>1080</td>\n",
       "      <td>15649</td>\n",
       "      <td>7508</td>\n",
       "      <td>8141</td>\n",
       "      <td>1</td>\n",
       "      <td>1</td>\n",
       "      <td>1016</td>\n",
       "      <td>758</td>\n",
       "      <td>36.003337</td>\n",
       "      <td>-78.935915</td>\n",
       "      <td>36.009519</td>\n",
       "      <td>-78.941601</td>\n",
       "    </tr>\n",
       "    <tr>\n",
       "      <th>2</th>\n",
       "      <td>1080</td>\n",
       "      <td>45508</td>\n",
       "      <td>7508</td>\n",
       "      <td>8141</td>\n",
       "      <td>3</td>\n",
       "      <td>1</td>\n",
       "      <td>1016</td>\n",
       "      <td>758</td>\n",
       "      <td>36.003337</td>\n",
       "      <td>-78.935915</td>\n",
       "      <td>36.009519</td>\n",
       "      <td>-78.941601</td>\n",
       "    </tr>\n",
       "    <tr>\n",
       "      <th>5</th>\n",
       "      <td>1080</td>\n",
       "      <td>62399</td>\n",
       "      <td>7508</td>\n",
       "      <td>7516</td>\n",
       "      <td>9</td>\n",
       "      <td>1</td>\n",
       "      <td>1110</td>\n",
       "      <td>883</td>\n",
       "      <td>36.003337</td>\n",
       "      <td>-78.935915</td>\n",
       "      <td>36.007164</td>\n",
       "      <td>-78.940748</td>\n",
       "    </tr>\n",
       "    <tr>\n",
       "      <th>6</th>\n",
       "      <td>1080</td>\n",
       "      <td>83945</td>\n",
       "      <td>7508</td>\n",
       "      <td>7516</td>\n",
       "      <td>2</td>\n",
       "      <td>1</td>\n",
       "      <td>1110</td>\n",
       "      <td>883</td>\n",
       "      <td>36.003337</td>\n",
       "      <td>-78.935915</td>\n",
       "      <td>36.007164</td>\n",
       "      <td>-78.940748</td>\n",
       "    </tr>\n",
       "    <tr>\n",
       "      <th>7</th>\n",
       "      <td>1080</td>\n",
       "      <td>95795</td>\n",
       "      <td>7508</td>\n",
       "      <td>8141</td>\n",
       "      <td>1</td>\n",
       "      <td>1</td>\n",
       "      <td>1016</td>\n",
       "      <td>758</td>\n",
       "      <td>36.003337</td>\n",
       "      <td>-78.935915</td>\n",
       "      <td>36.009519</td>\n",
       "      <td>-78.941601</td>\n",
       "    </tr>\n",
       "  </tbody>\n",
       "</table>\n",
       "</div>"
      ],
      "text/plain": [
       "     a1     a2  a1_BL_ID  a2_BL_ID  totalCollabs  collaborated  distance  \\\n",
       "0  1080  15649      7508      8141             1             1      1016   \n",
       "2  1080  45508      7508      8141             3             1      1016   \n",
       "5  1080  62399      7508      7516             9             1      1110   \n",
       "6  1080  83945      7508      7516             2             1      1110   \n",
       "7  1080  95795      7508      8141             1             1      1016   \n",
       "\n",
       "   duration     a1_LAT     a1_LON     a2_LAT     a2_LON  \n",
       "0       758  36.003337 -78.935915  36.009519 -78.941601  \n",
       "2       758  36.003337 -78.935915  36.009519 -78.941601  \n",
       "5       883  36.003337 -78.935915  36.007164 -78.940748  \n",
       "6       883  36.003337 -78.935915  36.007164 -78.940748  \n",
       "7       758  36.003337 -78.935915  36.009519 -78.941601  "
      ]
     },
     "execution_count": 108,
     "metadata": {},
     "output_type": "execute_result"
    }
   ],
   "source": [
    "uniqueCollabs.head()"
   ]
  },
  {
   "cell_type": "code",
   "execution_count": 116,
   "metadata": {
    "collapsed": false
   },
   "outputs": [
    {
     "data": {
      "text/plain": [
       "<matplotlib.axes._subplots.AxesSubplot at 0x10d4d5750>"
      ]
     },
     "execution_count": 116,
     "metadata": {},
     "output_type": "execute_result"
    },
    {
     "data": {
      "image/png": "[encoded data removed]",
      "text/plain": [
       "<matplotlib.figure.Figure at 0x113072c10>"
      ]
     },
     "metadata": {},
     "output_type": "display_data"
    }
   ],
   "source": [
    "uniqueCollabs.totalCollabs.plot()"
   ]
  },
  {
   "cell_type": "markdown",
   "metadata": {},
   "source": [
    "### Filter out locations that are far outside campus/downtown durham\n",
    "from looking at an early visualization of all data, there is one site in particular that is pretty far south and east. Remove any collaboration with a source or destination at this remote site for the purposes of the visualization. "
   ]
  },
  {
   "cell_type": "code",
   "execution_count": 109,
   "metadata": {
    "collapsed": false
   },
   "outputs": [
    {
     "name": "stdout",
     "output_type": "stream",
     "text": [
      "35.9220293709\n",
      "-78.8691705465\n"
     ]
    }
   ],
   "source": [
    "# most southernly\n",
    "print collab_df['dst_LAT'].min()\n",
    "\n",
    "# most easternly\n",
    "print collab_df['dst_LON'].max()"
   ]
  },
  {
   "cell_type": "code",
   "execution_count": 112,
   "metadata": {
    "collapsed": false
   },
   "outputs": [
    {
     "data": {
      "text/plain": [
       "'19 TW Alexander Dr'"
      ]
     },
     "execution_count": 112,
     "metadata": {},
     "output_type": "execute_result"
    }
   ],
   "source": [
    "# Find the Address of this location\n",
    "remoteAddress = collab_df.loc[collab_df.dst_LAT == collab_df.dst_LAT.min(), 'dst_ADDRESS'].iloc[0]\n",
    "remoteAddress"
   ]
  },
  {
   "cell_type": "code",
   "execution_count": 113,
   "metadata": {
    "collapsed": false
   },
   "outputs": [
    {
     "data": {
      "text/plain": [
       "8329"
      ]
     },
     "execution_count": 113,
     "metadata": {},
     "output_type": "execute_result"
    }
   ],
   "source": [
    "# Find the BL_ID of this location\n",
    "remote_BL_ID = collab_df.loc[collab_df.dst_LAT == collab_df.dst_LAT.min(), 'dst_BL_ID'].iloc[0]\n",
    "remote_BL_ID"
   ]
  },
  {
   "cell_type": "code",
   "execution_count": 114,
   "metadata": {
    "collapsed": false
   },
   "outputs": [
    {
     "data": {
      "text/plain": [
       "(7272, 12)"
      ]
     },
     "execution_count": 114,
     "metadata": {},
     "output_type": "execute_result"
    }
   ],
   "source": [
    "# remove this collaboration from the dataset\n",
    "uniqueCollabs = uniqueCollabs[uniqueCollabs.a1_BL_ID != remote_BL_ID]\n",
    "uniqueCollabs = uniqueCollabs[uniqueCollabs.a2_BL_ID != remote_BL_ID]\n",
    "\n",
    "uniqueCollabs.shape"
   ]
  },
  {
   "cell_type": "markdown",
   "metadata": {},
   "source": [
    "### Write the filtered vis data to a file\n"
   ]
  },
  {
   "cell_type": "code",
   "execution_count": 115,
   "metadata": {
    "collapsed": false
   },
   "outputs": [],
   "source": [
    "uniqueCollabs.to_csv('vis/vis_collaborations.tsv', sep='\\t', index=False)"
   ]
  },
  {
   "cell_type": "markdown",
   "metadata": {},
   "source": [
    "# Prep the circos data"
   ]
  },
  {
   "cell_type": "markdown",
   "metadata": {},
   "source": [
    "### building circos data"
   ]
  },
  {
   "cell_type": "code",
   "execution_count": 6,
   "metadata": {
    "collapsed": false
   },
   "outputs": [],
   "source": [
    "unique_bldgs = pd.read_table('data/processed/buildingNames.tsv', sep='\\t')"
   ]
  },
  {
   "cell_type": "code",
   "execution_count": 12,
   "metadata": {
    "collapsed": false
   },
   "outputs": [],
   "source": [
    "f = open('vis/circos/buildings/buildings_karotype.txt', 'w')\n",
    "for i, row in unique_bldgs.iterrows():\n",
    "    this_chr = '\\t'.join(['chr', '-', str(row['BL_ID']), row['NAME'], '0', '100', 'lpurple'])\n",
    "    f.write(this_chr+'\\n')\n",
    "f.close()"
   ]
  }
 ],
 "metadata": {
  "kernelspec": {
   "display_name": "Python 2",
   "language": "python",
   "name": "python2"
  },
  "language_info": {
   "codemirror_mode": {
    "name": "ipython",
    "version": 2
   },
   "file_extension": ".py",
   "mimetype": "text/x-python",
   "name": "python",
   "nbconvert_exporter": "python",
   "pygments_lexer": "ipython2",
   "version": "2.7.11"
  }
 },
 "nbformat": 4,
 "nbformat_minor": 0
}
