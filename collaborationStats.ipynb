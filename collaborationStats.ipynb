{
 "cells": [
  {
   "cell_type": "code",
   "execution_count": 1,
   "metadata": {
    "collapsed": true
   },
   "outputs": [],
   "source": [
    "import os\n",
    "import sys\n",
    "from os.path import join\n",
    "import pandas as pd\n",
    "import numpy as np\n",
    "import time\n",
    "import itertools"
   ]
  },
  {
   "cell_type": "code",
   "execution_count": 2,
   "metadata": {
    "collapsed": false
   },
   "outputs": [
    {
     "name": "stdout",
     "output_type": "stream",
     "text": [
      "Populating the interactive namespace from numpy and matplotlib\n"
     ]
    }
   ],
   "source": [
    "%pylab inline"
   ]
  },
  {
   "cell_type": "markdown",
   "metadata": {},
   "source": [
    "# stats on collaboration as functions of location and distance"
   ]
  },
  {
   "cell_type": "code",
   "execution_count": 3,
   "metadata": {
    "collapsed": true
   },
   "outputs": [],
   "source": [
    "collab_df = pd.read_table('data/processed/collaborations.tsv', sep='\\t')"
   ]
  },
  {
   "cell_type": "code",
   "execution_count": 4,
   "metadata": {
    "collapsed": false
   },
   "outputs": [
    {
     "data": {
      "text/html": [
       "<div>\n",
       "<table border=\"1\" class=\"dataframe\">\n",
       "  <thead>\n",
       "    <tr style=\"text-align: right;\">\n",
       "      <th></th>\n",
       "      <th>PUBLICATION_ID</th>\n",
       "      <th>PUBLICATION_TYPE</th>\n",
       "      <th>PUBLICATION_URI</th>\n",
       "      <th>PUBLISHED_DATE</th>\n",
       "      <th>TOTAL_AUTHORS</th>\n",
       "      <th>dst_DUID</th>\n",
       "      <th>dst_FIRST_NAME</th>\n",
       "      <th>dst_LAST_NAME</th>\n",
       "      <th>dst_MIDDLE_NAME</th>\n",
       "      <th>src_DUID</th>\n",
       "      <th>...</th>\n",
       "      <th>src_LAT</th>\n",
       "      <th>dst_ADDRESS</th>\n",
       "      <th>dst_CITY</th>\n",
       "      <th>dst_ZIP</th>\n",
       "      <th>dst_LON</th>\n",
       "      <th>dst_LAT</th>\n",
       "      <th>distance</th>\n",
       "      <th>duration</th>\n",
       "      <th>transportMode</th>\n",
       "      <th>crowDistance</th>\n",
       "    </tr>\n",
       "  </thead>\n",
       "  <tbody>\n",
       "    <tr>\n",
       "      <th>0</th>\n",
       "      <td>0</td>\n",
       "      <td>Journal Article</td>\n",
       "      <td>https://scholars.duke.edu/individual/pub1000033</td>\n",
       "      <td>5/1/2013 12:00:00 AM</td>\n",
       "      <td>2</td>\n",
       "      <td>272070</td>\n",
       "      <td>Shelby</td>\n",
       "      <td>Reed</td>\n",
       "      <td>Derene</td>\n",
       "      <td>99016</td>\n",
       "      <td>...</td>\n",
       "      <td>36.003337</td>\n",
       "      <td>40 Duke Medicine Cir</td>\n",
       "      <td>DURHAM</td>\n",
       "      <td>27705</td>\n",
       "      <td>-78.935915</td>\n",
       "      <td>36.003337</td>\n",
       "      <td>0.0</td>\n",
       "      <td>0.0</td>\n",
       "      <td>walk</td>\n",
       "      <td>0.000000</td>\n",
       "    </tr>\n",
       "    <tr>\n",
       "      <th>1</th>\n",
       "      <td>1</td>\n",
       "      <td>Journal Article</td>\n",
       "      <td>https://scholars.duke.edu/individual/pub1000035</td>\n",
       "      <td>7/1/2013 12:00:00 AM</td>\n",
       "      <td>2</td>\n",
       "      <td>591120</td>\n",
       "      <td>John</td>\n",
       "      <td>Reynolds</td>\n",
       "      <td>Michael</td>\n",
       "      <td>119821</td>\n",
       "      <td>...</td>\n",
       "      <td>36.003337</td>\n",
       "      <td>40 Duke Medicine Cir</td>\n",
       "      <td>DURHAM</td>\n",
       "      <td>27705</td>\n",
       "      <td>-78.935915</td>\n",
       "      <td>36.003337</td>\n",
       "      <td>0.0</td>\n",
       "      <td>0.0</td>\n",
       "      <td>walk</td>\n",
       "      <td>0.000000</td>\n",
       "    </tr>\n",
       "    <tr>\n",
       "      <th>2</th>\n",
       "      <td>2</td>\n",
       "      <td>Journal Article</td>\n",
       "      <td>https://scholars.duke.edu/individual/pub1000091</td>\n",
       "      <td>10/3/2012 12:00:00 AM</td>\n",
       "      <td>2</td>\n",
       "      <td>98973</td>\n",
       "      <td>John</td>\n",
       "      <td>Alexander</td>\n",
       "      <td>Hunter Peel</td>\n",
       "      <td>314783</td>\n",
       "      <td>...</td>\n",
       "      <td>36.003337</td>\n",
       "      <td>40 Duke Medicine Cir</td>\n",
       "      <td>DURHAM</td>\n",
       "      <td>27705</td>\n",
       "      <td>-78.935915</td>\n",
       "      <td>36.003337</td>\n",
       "      <td>0.0</td>\n",
       "      <td>0.0</td>\n",
       "      <td>walk</td>\n",
       "      <td>0.000000</td>\n",
       "    </tr>\n",
       "    <tr>\n",
       "      <th>3</th>\n",
       "      <td>3</td>\n",
       "      <td>Journal Article</td>\n",
       "      <td>https://scholars.duke.edu/individual/pub1000099</td>\n",
       "      <td>11/1/2013 12:00:00 AM</td>\n",
       "      <td>2</td>\n",
       "      <td>449347</td>\n",
       "      <td>Endi</td>\n",
       "      <td>Wang</td>\n",
       "      <td>NaN</td>\n",
       "      <td>435364</td>\n",
       "      <td>...</td>\n",
       "      <td>36.003063</td>\n",
       "      <td>40 Duke Medicine Cir</td>\n",
       "      <td>DURHAM</td>\n",
       "      <td>27705</td>\n",
       "      <td>-78.936950</td>\n",
       "      <td>36.003063</td>\n",
       "      <td>0.0</td>\n",
       "      <td>0.0</td>\n",
       "      <td>walk</td>\n",
       "      <td>0.000000</td>\n",
       "    </tr>\n",
       "    <tr>\n",
       "      <th>4</th>\n",
       "      <td>4</td>\n",
       "      <td>Journal Article</td>\n",
       "      <td>https://scholars.duke.edu/individual/pub1000158</td>\n",
       "      <td>1/1/2013 12:00:00 AM</td>\n",
       "      <td>3</td>\n",
       "      <td>135843</td>\n",
       "      <td>Evan</td>\n",
       "      <td>Myers</td>\n",
       "      <td>Robert</td>\n",
       "      <td>373496</td>\n",
       "      <td>...</td>\n",
       "      <td>36.007164</td>\n",
       "      <td>40 Duke Medicine Cir</td>\n",
       "      <td>DURHAM</td>\n",
       "      <td>27705</td>\n",
       "      <td>-78.935105</td>\n",
       "      <td>36.003996</td>\n",
       "      <td>1110.0</td>\n",
       "      <td>883.0</td>\n",
       "      <td>walk</td>\n",
       "      <td>618.435335</td>\n",
       "    </tr>\n",
       "  </tbody>\n",
       "</table>\n",
       "<p>5 rows × 33 columns</p>\n",
       "</div>"
      ],
      "text/plain": [
       "   PUBLICATION_ID PUBLICATION_TYPE  \\\n",
       "0               0  Journal Article   \n",
       "1               1  Journal Article   \n",
       "2               2  Journal Article   \n",
       "3               3  Journal Article   \n",
       "4               4  Journal Article   \n",
       "\n",
       "                                   PUBLICATION_URI         PUBLISHED_DATE  \\\n",
       "0  https://scholars.duke.edu/individual/pub1000033   5/1/2013 12:00:00 AM   \n",
       "1  https://scholars.duke.edu/individual/pub1000035   7/1/2013 12:00:00 AM   \n",
       "2  https://scholars.duke.edu/individual/pub1000091  10/3/2012 12:00:00 AM   \n",
       "3  https://scholars.duke.edu/individual/pub1000099  11/1/2013 12:00:00 AM   \n",
       "4  https://scholars.duke.edu/individual/pub1000158   1/1/2013 12:00:00 AM   \n",
       "\n",
       "   TOTAL_AUTHORS  dst_DUID dst_FIRST_NAME dst_LAST_NAME dst_MIDDLE_NAME  \\\n",
       "0              2    272070         Shelby          Reed          Derene   \n",
       "1              2    591120           John      Reynolds         Michael   \n",
       "2              2     98973           John     Alexander     Hunter Peel   \n",
       "3              2    449347           Endi          Wang             NaN   \n",
       "4              3    135843           Evan         Myers          Robert   \n",
       "\n",
       "   src_DUID     ...         src_LAT           dst_ADDRESS dst_CITY  dst_ZIP  \\\n",
       "0     99016     ...       36.003337  40 Duke Medicine Cir   DURHAM    27705   \n",
       "1    119821     ...       36.003337  40 Duke Medicine Cir   DURHAM    27705   \n",
       "2    314783     ...       36.003337  40 Duke Medicine Cir   DURHAM    27705   \n",
       "3    435364     ...       36.003063  40 Duke Medicine Cir   DURHAM    27705   \n",
       "4    373496     ...       36.007164  40 Duke Medicine Cir   DURHAM    27705   \n",
       "\n",
       "     dst_LON    dst_LAT  distance  duration  transportMode crowDistance  \n",
       "0 -78.935915  36.003337       0.0       0.0           walk     0.000000  \n",
       "1 -78.935915  36.003337       0.0       0.0           walk     0.000000  \n",
       "2 -78.935915  36.003337       0.0       0.0           walk     0.000000  \n",
       "3 -78.936950  36.003063       0.0       0.0           walk     0.000000  \n",
       "4 -78.935105  36.003996    1110.0     883.0           walk   618.435335  \n",
       "\n",
       "[5 rows x 33 columns]"
      ]
     },
     "execution_count": 4,
     "metadata": {},
     "output_type": "execute_result"
    }
   ],
   "source": [
    "collab_df.head()"
   ]
  },
  {
   "cell_type": "code",
   "execution_count": 5,
   "metadata": {
    "collapsed": false
   },
   "outputs": [
    {
     "data": {
      "text/plain": [
       "Index([u'PUBLICATION_ID', u'PUBLICATION_TYPE', u'PUBLICATION_URI',\n",
       "       u'PUBLISHED_DATE', u'TOTAL_AUTHORS', u'dst_DUID', u'dst_FIRST_NAME',\n",
       "       u'dst_LAST_NAME', u'dst_MIDDLE_NAME', u'src_DUID', u'src_FIRST_NAME',\n",
       "       u'src_LAST_NAME', u'src_MIDDLE_NAME', u'src_OrgBFR', u'dst_OrgBFR',\n",
       "       u'src_DUKE_NUMBER', u'dst_DUKE_NUMBER', u'src_BL_ID', u'dst_BL_ID',\n",
       "       u'src_ADDRESS', u'src_CITY', u'src_ZIP', u'src_LON', u'src_LAT',\n",
       "       u'dst_ADDRESS', u'dst_CITY', u'dst_ZIP', u'dst_LON', u'dst_LAT',\n",
       "       u'distance', u'duration', u'transportMode', u'crowDistance'],\n",
       "      dtype='object')"
      ]
     },
     "execution_count": 5,
     "metadata": {},
     "output_type": "execute_result"
    }
   ],
   "source": [
    "collab_df.columns"
   ]
  },
  {
   "cell_type": "markdown",
   "metadata": {},
   "source": [
    "### build table of each unique combination of two people\n",
    "mark a binary response (1 or 0) of whether they collaborated together or not, and what the distance between them is"
   ]
  },
  {
   "cell_type": "code",
   "execution_count": 6,
   "metadata": {
    "collapsed": false
   },
   "outputs": [],
   "source": [
    "srcAuthors = np.unique(collab_df.src_DUID)\n",
    "dstAuthors = np.unique(collab_df.dst_DUID)\n",
    "\n",
    "# unique list of all Authors in the table\n",
    "allAuthors = np.unique(np.concatenate([srcAuthors, dstAuthors], axis=0))"
   ]
  },
  {
   "cell_type": "code",
   "execution_count": 7,
   "metadata": {
    "collapsed": false
   },
   "outputs": [],
   "source": [
    "# start columns for each unique author pair\n",
    "authorDict = {'a1': [], 'a2':[]}\n",
    "for a1, a2 in itertools.combinations(allAuthors, 2):\n",
    "    authorDict['a1'].append(a1)\n",
    "    authorDict['a2'].append(a2)\n",
    "    \n",
    "# write to dataframe\n",
    "author_df = pd.DataFrame.from_dict(authorDict)"
   ]
  },
  {
   "cell_type": "code",
   "execution_count": 8,
   "metadata": {
    "collapsed": false
   },
   "outputs": [
    {
     "data": {
      "text/html": [
       "<div>\n",
       "<table border=\"1\" class=\"dataframe\">\n",
       "  <thead>\n",
       "    <tr style=\"text-align: right;\">\n",
       "      <th></th>\n",
       "      <th>a1</th>\n",
       "      <th>a2</th>\n",
       "    </tr>\n",
       "  </thead>\n",
       "  <tbody>\n",
       "    <tr>\n",
       "      <th>0</th>\n",
       "      <td>1080</td>\n",
       "      <td>2361</td>\n",
       "    </tr>\n",
       "    <tr>\n",
       "      <th>1</th>\n",
       "      <td>1080</td>\n",
       "      <td>3478</td>\n",
       "    </tr>\n",
       "    <tr>\n",
       "      <th>2</th>\n",
       "      <td>1080</td>\n",
       "      <td>4700</td>\n",
       "    </tr>\n",
       "    <tr>\n",
       "      <th>3</th>\n",
       "      <td>1080</td>\n",
       "      <td>5212</td>\n",
       "    </tr>\n",
       "    <tr>\n",
       "      <th>4</th>\n",
       "      <td>1080</td>\n",
       "      <td>5545</td>\n",
       "    </tr>\n",
       "  </tbody>\n",
       "</table>\n",
       "</div>"
      ],
      "text/plain": [
       "     a1    a2\n",
       "0  1080  2361\n",
       "1  1080  3478\n",
       "2  1080  4700\n",
       "3  1080  5212\n",
       "4  1080  5545"
      ]
     },
     "execution_count": 8,
     "metadata": {},
     "output_type": "execute_result"
    }
   ],
   "source": [
    "author_df.head()"
   ]
  },
  {
   "cell_type": "markdown",
   "metadata": {},
   "source": [
    "Read in tables with additional information about distances and durations between buildings"
   ]
  },
  {
   "cell_type": "code",
   "execution_count": 42,
   "metadata": {
    "collapsed": false
   },
   "outputs": [],
   "source": [
    "b2b_distance = pd.read_table('data/processed/bldg2bldg_distance.tsv', sep='\\t', index_col=0)\n",
    "b2b_duration = pd.read_table('data/processed/bldg2bldf_duration.tsv', sep='\\t', index_col=0)"
   ]
  },
  {
   "cell_type": "code",
   "execution_count": 43,
   "metadata": {
    "collapsed": false
   },
   "outputs": [
    {
     "data": {
      "text/html": [
       "<div>\n",
       "<table border=\"1\" class=\"dataframe\">\n",
       "  <thead>\n",
       "    <tr style=\"text-align: right;\">\n",
       "      <th></th>\n",
       "      <th>7201</th>\n",
       "      <th>7202</th>\n",
       "      <th>7224</th>\n",
       "      <th>7251</th>\n",
       "      <th>7261</th>\n",
       "      <th>7501</th>\n",
       "      <th>7506</th>\n",
       "      <th>7507</th>\n",
       "      <th>7508</th>\n",
       "      <th>7512</th>\n",
       "      <th>...</th>\n",
       "      <th>7760</th>\n",
       "      <th>7765</th>\n",
       "      <th>7776</th>\n",
       "      <th>8084</th>\n",
       "      <th>8116</th>\n",
       "      <th>8141</th>\n",
       "      <th>8166</th>\n",
       "      <th>8239</th>\n",
       "      <th>8304</th>\n",
       "      <th>8329</th>\n",
       "    </tr>\n",
       "  </thead>\n",
       "  <tbody>\n",
       "    <tr>\n",
       "      <th>7201</th>\n",
       "      <td>0.0</td>\n",
       "      <td>82.0</td>\n",
       "      <td>80.0</td>\n",
       "      <td>497.0</td>\n",
       "      <td>417.0</td>\n",
       "      <td>442.0</td>\n",
       "      <td>442.0</td>\n",
       "      <td>442.0</td>\n",
       "      <td>442.0</td>\n",
       "      <td>348.0</td>\n",
       "      <td>...</td>\n",
       "      <td>660.0</td>\n",
       "      <td>504.0</td>\n",
       "      <td>583.0</td>\n",
       "      <td>870.0</td>\n",
       "      <td>946.0</td>\n",
       "      <td>473.0</td>\n",
       "      <td>354.0</td>\n",
       "      <td>541.0</td>\n",
       "      <td>709.0</td>\n",
       "      <td>790.0</td>\n",
       "    </tr>\n",
       "    <tr>\n",
       "      <th>7202</th>\n",
       "      <td>82.0</td>\n",
       "      <td>0.0</td>\n",
       "      <td>109.0</td>\n",
       "      <td>459.0</td>\n",
       "      <td>430.0</td>\n",
       "      <td>428.0</td>\n",
       "      <td>428.0</td>\n",
       "      <td>428.0</td>\n",
       "      <td>428.0</td>\n",
       "      <td>334.0</td>\n",
       "      <td>...</td>\n",
       "      <td>609.0</td>\n",
       "      <td>456.0</td>\n",
       "      <td>569.0</td>\n",
       "      <td>883.0</td>\n",
       "      <td>864.0</td>\n",
       "      <td>459.0</td>\n",
       "      <td>340.0</td>\n",
       "      <td>432.0</td>\n",
       "      <td>627.0</td>\n",
       "      <td>772.0</td>\n",
       "    </tr>\n",
       "    <tr>\n",
       "      <th>7224</th>\n",
       "      <td>80.0</td>\n",
       "      <td>109.0</td>\n",
       "      <td>0.0</td>\n",
       "      <td>417.0</td>\n",
       "      <td>469.0</td>\n",
       "      <td>460.0</td>\n",
       "      <td>460.0</td>\n",
       "      <td>460.0</td>\n",
       "      <td>460.0</td>\n",
       "      <td>366.0</td>\n",
       "      <td>...</td>\n",
       "      <td>677.0</td>\n",
       "      <td>565.0</td>\n",
       "      <td>601.0</td>\n",
       "      <td>922.0</td>\n",
       "      <td>976.0</td>\n",
       "      <td>491.0</td>\n",
       "      <td>372.0</td>\n",
       "      <td>537.0</td>\n",
       "      <td>635.0</td>\n",
       "      <td>863.0</td>\n",
       "    </tr>\n",
       "    <tr>\n",
       "      <th>7251</th>\n",
       "      <td>497.0</td>\n",
       "      <td>459.0</td>\n",
       "      <td>417.0</td>\n",
       "      <td>0.0</td>\n",
       "      <td>870.0</td>\n",
       "      <td>445.0</td>\n",
       "      <td>445.0</td>\n",
       "      <td>445.0</td>\n",
       "      <td>445.0</td>\n",
       "      <td>351.0</td>\n",
       "      <td>...</td>\n",
       "      <td>647.0</td>\n",
       "      <td>567.0</td>\n",
       "      <td>586.0</td>\n",
       "      <td>303.0</td>\n",
       "      <td>1000.0</td>\n",
       "      <td>451.0</td>\n",
       "      <td>295.0</td>\n",
       "      <td>464.0</td>\n",
       "      <td>592.0</td>\n",
       "      <td>791.0</td>\n",
       "    </tr>\n",
       "    <tr>\n",
       "      <th>7261</th>\n",
       "      <td>417.0</td>\n",
       "      <td>430.0</td>\n",
       "      <td>469.0</td>\n",
       "      <td>870.0</td>\n",
       "      <td>0.0</td>\n",
       "      <td>413.0</td>\n",
       "      <td>413.0</td>\n",
       "      <td>413.0</td>\n",
       "      <td>413.0</td>\n",
       "      <td>319.0</td>\n",
       "      <td>...</td>\n",
       "      <td>557.0</td>\n",
       "      <td>425.0</td>\n",
       "      <td>554.0</td>\n",
       "      <td>623.0</td>\n",
       "      <td>1127.0</td>\n",
       "      <td>444.0</td>\n",
       "      <td>1113.0</td>\n",
       "      <td>361.0</td>\n",
       "      <td>941.0</td>\n",
       "      <td>675.0</td>\n",
       "    </tr>\n",
       "  </tbody>\n",
       "</table>\n",
       "<p>5 rows × 51 columns</p>\n",
       "</div>"
      ],
      "text/plain": [
       "       7201   7202   7224   7251   7261   7501   7506   7507   7508   7512  \\\n",
       "7201    0.0   82.0   80.0  497.0  417.0  442.0  442.0  442.0  442.0  348.0   \n",
       "7202   82.0    0.0  109.0  459.0  430.0  428.0  428.0  428.0  428.0  334.0   \n",
       "7224   80.0  109.0    0.0  417.0  469.0  460.0  460.0  460.0  460.0  366.0   \n",
       "7251  497.0  459.0  417.0    0.0  870.0  445.0  445.0  445.0  445.0  351.0   \n",
       "7261  417.0  430.0  469.0  870.0    0.0  413.0  413.0  413.0  413.0  319.0   \n",
       "\n",
       "      ...     7760   7765   7776   8084    8116   8141    8166   8239   8304  \\\n",
       "7201  ...    660.0  504.0  583.0  870.0   946.0  473.0   354.0  541.0  709.0   \n",
       "7202  ...    609.0  456.0  569.0  883.0   864.0  459.0   340.0  432.0  627.0   \n",
       "7224  ...    677.0  565.0  601.0  922.0   976.0  491.0   372.0  537.0  635.0   \n",
       "7251  ...    647.0  567.0  586.0  303.0  1000.0  451.0   295.0  464.0  592.0   \n",
       "7261  ...    557.0  425.0  554.0  623.0  1127.0  444.0  1113.0  361.0  941.0   \n",
       "\n",
       "       8329  \n",
       "7201  790.0  \n",
       "7202  772.0  \n",
       "7224  863.0  \n",
       "7251  791.0  \n",
       "7261  675.0  \n",
       "\n",
       "[5 rows x 51 columns]"
      ]
     },
     "execution_count": 43,
     "metadata": {},
     "output_type": "execute_result"
    }
   ],
   "source": [
    "b2b_duration.head()"
   ]
  },
  {
   "cell_type": "code",
   "execution_count": 76,
   "metadata": {
    "collapsed": false
   },
   "outputs": [],
   "source": [
    "def findBuilding(duid):\n",
    "    # find the building associated with a given DUID\n",
    "    \n",
    "    # start by looking in the src author column\n",
    "    if duid in collab_df.src_DUID.values:\n",
    "        bl_id = collab_df.loc[collab_df.src_DUID == duid, 'src_BL_ID'].iloc[0]\n",
    "    \n",
    "    # otherwise check the dst author column\n",
    "    elif duid in collab_df.dst_DUID.values:\n",
    "        bl_id = collab_df.loc[collab_df.dst_DUID == duid, 'dst_BL_ID'].iloc[0]\n",
    "    else:\n",
    "        bl_id = 666\n",
    "    return bl_id\n",
    "\n",
    "def totalCollabs(row):\n",
    "    # calculate the number of times and two authors collaborated together\n",
    "    a1 = row['a1']\n",
    "    a2 = row['a2']\n",
    "    \n",
    "    # check for instance where a1=src and a2=dst, and the opposite\n",
    "    src2dst_collabs = collab_df.loc[(collab_df.src_DUID == a1) & (collab_df.dst_DUID == a2)]\n",
    "    dst2src_collabs = collab_df.loc[(collab_df.dst_DUID == a1) & (collab_df.src_DUID == a2)]\n",
    "    \n",
    "    # add the two together\n",
    "    totalCollabs = src2dst_collabs.shape[0] + dst2src_collabs.shape[0]\n",
    "    \n",
    "    return totalCollabs\n",
    "\n",
    "def didTheyCollaborate(totalCollabs):\n",
    "    # boolean response about whether 2 authors collaborated at all\n",
    "    if totalCollabs > 0:\n",
    "        wellDidThey = 1\n",
    "    else:\n",
    "        wellDidThey = 0\n",
    "    return wellDidThey\n",
    "\n",
    "\n",
    "# Following functions must be run AFTER findBuilding on both a1 and a2\n",
    "def getDistance(row):\n",
    "    # get the distance between the 2 buildings\n",
    "    b1 = int(row['a1_BL_ID'])\n",
    "    b2 = int(row['a2_BL_ID'])\n",
    "    \n",
    "    dist = b2b_distance.loc[b1, str(b2)]  # note: index labels are int64, columns are string objects\n",
    "    return dist\n",
    "\n",
    "def getDuration(row):\n",
    "    # get the travel duration between the 2 buildings\n",
    "    b1 = int(row['a1_BL_ID'])\n",
    "    b2 = int(row['a2_BL_ID'])\n",
    "    \n",
    "    dur = b2b_duration.loc[int(b1), str(b2)]  # note: index labels are int64, columns are string objects\n",
    "    return dur"
   ]
  },
  {
   "cell_type": "markdown",
   "metadata": {},
   "source": [
    "Add the additional column to the author df. NOTE: this take a while, so save afterwards"
   ]
  },
  {
   "cell_type": "code",
   "execution_count": 28,
   "metadata": {
    "collapsed": false
   },
   "outputs": [],
   "source": [
    "author_df['a1_BL_ID'] = author_df['a1'].apply(findBuilding)\n",
    "author_df['a2_BL_ID'] = author_df['a2'].apply(findBuilding)\n",
    "author_df['totalCollabs'] = author_df.apply(totalCollabs, axis=1)\n",
    "author_df['collaborated'] = author_df['totalCollabs'].apply(didTheyCollaborate)"
   ]
  },
  {
   "cell_type": "code",
   "execution_count": 62,
   "metadata": {
    "collapsed": false
   },
   "outputs": [],
   "source": [
    "author_df.to_csv('test.txt', index=False)"
   ]
  },
  {
   "cell_type": "code",
   "execution_count": 77,
   "metadata": {
    "collapsed": false
   },
   "outputs": [],
   "source": [
    "#author_df['distance'] = author_df.apply(getDistance, axis=1)\n",
    "author_df['duration'] = author_df.apply(getDuration, axis=1)"
   ]
  },
  {
   "cell_type": "code",
   "execution_count": 79,
   "metadata": {
    "collapsed": false
   },
   "outputs": [],
   "source": [
    "author_df[['distance', 'duration']] = author_df[['distance', 'duration']].astype(int)"
   ]
  },
  {
   "cell_type": "code",
   "execution_count": 81,
   "metadata": {
    "collapsed": false
   },
   "outputs": [],
   "source": [
    "author_df.to_csv('data/processed/author2author_collabs.tsv', sep='\\t', index=False)"
   ]
  },
  {
   "cell_type": "markdown",
   "metadata": {},
   "source": [
    "## summarize the results"
   ]
  },
  {
   "cell_type": "code",
   "execution_count": 190,
   "metadata": {
    "collapsed": true
   },
   "outputs": [],
   "source": [
    "didCollab = author_df.loc[author_df.collaborated == 1, :]\n",
    "#didCollab = didCollab[didCollab.distance > 0]"
   ]
  },
  {
   "cell_type": "code",
   "execution_count": 191,
   "metadata": {
    "collapsed": true
   },
   "outputs": [],
   "source": [
    "didCollab.to_csv('data/processed/uniqueCollaborations.tsv', sep='\\t', index=False)"
   ]
  },
  {
   "cell_type": "code",
   "execution_count": 98,
   "metadata": {
    "collapsed": false
   },
   "outputs": [
    {
     "data": {
      "text/plain": [
       "(0, 10000)"
      ]
     },
     "execution_count": 98,
     "metadata": {},
     "output_type": "execute_result"
    },
    {
     "data": {
      "image/png": "[encoded data removed]",
      "text/plain": [
       "<matplotlib.figure.Figure at 0x111fa1310>"
      ]
     },
     "metadata": {},
     "output_type": "display_data"
    }
   ],
   "source": [
    "didCollab.distance.hist(bins=50)\n",
    "plt.gca().set_ylim(0,4000)\n",
    "plt.gca().set_xlim(0,10000)"
   ]
  },
  {
   "cell_type": "code",
   "execution_count": 99,
   "metadata": {
    "collapsed": false
   },
   "outputs": [
    {
     "data": {
      "text/plain": [
       "(0, 1300)"
      ]
     },
     "execution_count": 99,
     "metadata": {},
     "output_type": "execute_result"
    },
    {
     "data": {
      "image/png": "[encoded data removed]",
      "text/plain": [
       "<matplotlib.figure.Figure at 0x111f40250>"
      ]
     },
     "metadata": {},
     "output_type": "display_data"
    }
   ],
   "source": [
    "didCollab.duration.hist(bins=50)\n",
    "plt.gca().set_ylim(0,1300)"
   ]
  },
  {
   "cell_type": "markdown",
   "metadata": {},
   "source": [
    "### look at proportion of collaborations (out of total possible) at different distance and duration bins"
   ]
  },
  {
   "cell_type": "markdown",
   "metadata": {},
   "source": [
    "Start by looking at distance"
   ]
  },
  {
   "cell_type": "code",
   "execution_count": 101,
   "metadata": {
    "collapsed": false
   },
   "outputs": [
    {
     "data": {
      "text/plain": [
       "24376"
      ]
     },
     "execution_count": 101,
     "metadata": {},
     "output_type": "execute_result"
    }
   ],
   "source": [
    "author_df.distance.max()"
   ]
  },
  {
   "cell_type": "code",
   "execution_count": 104,
   "metadata": {
    "collapsed": false
   },
   "outputs": [],
   "source": [
    "total_byDistBin = author_df.groupby(pd.cut(author_df['distance'], np.arange(0, 24400, 100))).count()\n",
    "sum_byDistBin = author_df.groupby(pd.cut(author_df['distance'], np.arange(0, 24400, 100))).sum()"
   ]
  },
  {
   "cell_type": "code",
   "execution_count": 130,
   "metadata": {
    "collapsed": false
   },
   "outputs": [],
   "source": [
    "prop_byDistBin = pd.concat([total_byDistBin.collaborated, sum_byDistBin.collaborated], axis=1, join='inner')\n",
    "prop_byDistBin.columns = ['totalPossible', 'n_collaborations']\n",
    "prop_byDistBin['prop'] = prop_byDistBin.apply(lambda x: np.true_divide(x.n_collaborations, x.totalPossible), axis=1)"
   ]
  },
  {
   "cell_type": "code",
   "execution_count": 132,
   "metadata": {
    "collapsed": false
   },
   "outputs": [
    {
     "data": {
      "text/html": [
       "<div>\n",
       "<table border=\"1\" class=\"dataframe\">\n",
       "  <thead>\n",
       "    <tr style=\"text-align: right;\">\n",
       "      <th></th>\n",
       "      <th>totalPossible</th>\n",
       "      <th>n_collaborations</th>\n",
       "      <th>prop</th>\n",
       "    </tr>\n",
       "    <tr>\n",
       "      <th>distance</th>\n",
       "      <th></th>\n",
       "      <th></th>\n",
       "      <th></th>\n",
       "    </tr>\n",
       "  </thead>\n",
       "  <tbody>\n",
       "    <tr>\n",
       "      <th>(0, 100]</th>\n",
       "      <td>56608</td>\n",
       "      <td>160.0</td>\n",
       "      <td>0.002826</td>\n",
       "    </tr>\n",
       "    <tr>\n",
       "      <th>(100, 200]</th>\n",
       "      <td>41548</td>\n",
       "      <td>195.0</td>\n",
       "      <td>0.004693</td>\n",
       "    </tr>\n",
       "    <tr>\n",
       "      <th>(200, 300]</th>\n",
       "      <td>25913</td>\n",
       "      <td>80.0</td>\n",
       "      <td>0.003087</td>\n",
       "    </tr>\n",
       "    <tr>\n",
       "      <th>(300, 400]</th>\n",
       "      <td>40359</td>\n",
       "      <td>205.0</td>\n",
       "      <td>0.005079</td>\n",
       "    </tr>\n",
       "    <tr>\n",
       "      <th>(400, 500]</th>\n",
       "      <td>154792</td>\n",
       "      <td>826.0</td>\n",
       "      <td>0.005336</td>\n",
       "    </tr>\n",
       "  </tbody>\n",
       "</table>\n",
       "</div>"
      ],
      "text/plain": [
       "            totalPossible  n_collaborations      prop\n",
       "distance                                             \n",
       "(0, 100]            56608             160.0  0.002826\n",
       "(100, 200]          41548             195.0  0.004693\n",
       "(200, 300]          25913              80.0  0.003087\n",
       "(300, 400]          40359             205.0  0.005079\n",
       "(400, 500]         154792             826.0  0.005336"
      ]
     },
     "execution_count": 132,
     "metadata": {},
     "output_type": "execute_result"
    }
   ],
   "source": [
    "prop_byDistBin.head()"
   ]
  },
  {
   "cell_type": "code",
   "execution_count": 137,
   "metadata": {
    "collapsed": false
   },
   "outputs": [
    {
     "data": {
      "text/plain": [
       "(0, 0.01)"
      ]
     },
     "execution_count": 137,
     "metadata": {},
     "output_type": "execute_result"
    },
    {
     "data": {
      "image/png": "[encoded data removed]",
      "text/plain": [
       "<matplotlib.figure.Figure at 0x112447d90>"
      ]
     },
     "metadata": {},
     "output_type": "display_data"
    }
   ],
   "source": [
    "prop_byDistBin.prop.plot()\n",
    "plt.gca().set_ylim(0, .01)"
   ]
  },
  {
   "cell_type": "markdown",
   "metadata": {},
   "source": [
    "Now, duration..."
   ]
  },
  {
   "cell_type": "code",
   "execution_count": 154,
   "metadata": {
    "collapsed": true
   },
   "outputs": [],
   "source": [
    "total_byDurBin = author_df.groupby(pd.cut(author_df['duration'], np.arange(0, 1280, 30))).count()\n",
    "sum_byDurBin = author_df.groupby(pd.cut(author_df['duration'], np.arange(0, 1280, 30))).sum()"
   ]
  },
  {
   "cell_type": "code",
   "execution_count": 155,
   "metadata": {
    "collapsed": true
   },
   "outputs": [],
   "source": [
    "prop_byDurBin = pd.concat([total_byDurBin.collaborated, sum_byDurBin.collaborated], axis=1, join='inner')\n",
    "prop_byDurBin.columns = ['totalPossible', 'n_collaborations']\n",
    "prop_byDurBin['prop'] = prop_byDurBin.apply(lambda x: np.true_divide(x.n_collaborations, x.totalPossible), axis=1)"
   ]
  },
  {
   "cell_type": "code",
   "execution_count": 156,
   "metadata": {
    "collapsed": false
   },
   "outputs": [
    {
     "data": {
      "text/plain": [
       "<matplotlib.axes._subplots.AxesSubplot at 0x116119750>"
      ]
     },
     "execution_count": 156,
     "metadata": {},
     "output_type": "execute_result"
    },
    {
     "data": {
      "image/png": "[encoded data removed]",
      "text/plain": [
       "<matplotlib.figure.Figure at 0x116140510>"
      ]
     },
     "metadata": {},
     "output_type": "display_data"
    }
   ],
   "source": [
    "prop_byDurBin.prop.plot()\n",
    "#plt.gca().set_ylim(0, .01)"
   ]
  },
  {
   "cell_type": "code",
   "execution_count": 158,
   "metadata": {
    "collapsed": false
   },
   "outputs": [
    {
     "data": {
      "text/html": [
       "<div>\n",
       "<table border=\"1\" class=\"dataframe\">\n",
       "  <thead>\n",
       "    <tr style=\"text-align: right;\">\n",
       "      <th></th>\n",
       "      <th>totalPossible</th>\n",
       "      <th>n_collaborations</th>\n",
       "      <th>prop</th>\n",
       "    </tr>\n",
       "    <tr>\n",
       "      <th>duration</th>\n",
       "      <th></th>\n",
       "      <th></th>\n",
       "      <th></th>\n",
       "    </tr>\n",
       "  </thead>\n",
       "  <tbody>\n",
       "    <tr>\n",
       "      <th>(0, 30]</th>\n",
       "      <td>18571</td>\n",
       "      <td>99</td>\n",
       "      <td>0.005331</td>\n",
       "    </tr>\n",
       "    <tr>\n",
       "      <th>(30, 60]</th>\n",
       "      <td>9299</td>\n",
       "      <td>11</td>\n",
       "      <td>0.001183</td>\n",
       "    </tr>\n",
       "    <tr>\n",
       "      <th>(60, 90]</th>\n",
       "      <td>41512</td>\n",
       "      <td>89</td>\n",
       "      <td>0.002144</td>\n",
       "    </tr>\n",
       "    <tr>\n",
       "      <th>(90, 120]</th>\n",
       "      <td>2008</td>\n",
       "      <td>26</td>\n",
       "      <td>0.012948</td>\n",
       "    </tr>\n",
       "    <tr>\n",
       "      <th>(120, 150]</th>\n",
       "      <td>26766</td>\n",
       "      <td>130</td>\n",
       "      <td>0.004857</td>\n",
       "    </tr>\n",
       "  </tbody>\n",
       "</table>\n",
       "</div>"
      ],
      "text/plain": [
       "            totalPossible  n_collaborations      prop\n",
       "duration                                             \n",
       "(0, 30]             18571                99  0.005331\n",
       "(30, 60]             9299                11  0.001183\n",
       "(60, 90]            41512                89  0.002144\n",
       "(90, 120]            2008                26  0.012948\n",
       "(120, 150]          26766               130  0.004857"
      ]
     },
     "execution_count": 158,
     "metadata": {},
     "output_type": "execute_result"
    }
   ],
   "source": [
    "prop_byDurBin.head()"
   ]
  },
  {
   "cell_type": "code",
   "execution_count": 187,
   "metadata": {
    "collapsed": false
   },
   "outputs": [],
   "source": [
    "# fit a curve to the duration data\n",
    "y = prop_byDurBin.prop.values\n",
    "x = np.arange(len(y))\n",
    "\n",
    "fit = np.polyfit(x, y, 2)\n",
    "p = np.poly1d(fit)\n"
   ]
  },
  {
   "cell_type": "code",
   "execution_count": 189,
   "metadata": {
    "collapsed": false
   },
   "outputs": [
    {
     "data": {
      "text/plain": [
       "(0, 0.008)"
      ]
     },
     "execution_count": 189,
     "metadata": {},
     "output_type": "execute_result"
    },
    {
     "data": {
      "image/png": "[encoded data removed]",
      "text/plain": [
       "<matplotlib.figure.Figure at 0x116b74e10>"
      ]
     },
     "metadata": {},
     "output_type": "display_data"
    }
   ],
   "source": [
    "plt.plot(x, y)\n",
    "plt.plot(x, p(x))\n",
    "plt.ylim(0,.008)"
   ]
  },
  {
   "cell_type": "markdown",
   "metadata": {},
   "source": [
    "Duration is interesting. But this is collaping across \"walkers\" and \"drivers\". Separate by transporation mode and redo"
   ]
  },
  {
   "cell_type": "code",
   "execution_count": 159,
   "metadata": {
    "collapsed": true
   },
   "outputs": [],
   "source": [
    "# separate based on a distance of 1 mile (i.e 1609 m)\n",
    "walkers = author_df.loc[author_df.distance <= 1609, :]\n",
    "drivers = author_df.loc[author_df.distance > 1609, :]"
   ]
  },
  {
   "cell_type": "code",
   "execution_count": 164,
   "metadata": {
    "collapsed": false
   },
   "outputs": [],
   "source": [
    "walker_total_byDurBin = walkers.groupby(pd.cut(walkers['duration'], np.arange(0, 1280, 30))).count()\n",
    "walker_sum_byDurBin = walkers.groupby(pd.cut(walkers['duration'], np.arange(0, 1280, 30))).sum()\n",
    "\n",
    "# combine into new table\n",
    "walker_propByDur = pd.concat([walker_total_byDurBin.collaborated, walker_sum_byDurBin.collaborated], axis=1, join='inner')\n",
    "walker_propByDur.columns = ['totalPossible', 'n_collaborations']\n",
    "\n",
    "# calculate porportion\n",
    "walker_propByDur['prop'] = walker_propByDur.apply(lambda x: np.true_divide(x.n_collaborations, x.totalPossible), axis=1)"
   ]
  },
  {
   "cell_type": "code",
   "execution_count": 165,
   "metadata": {
    "collapsed": false
   },
   "outputs": [
    {
     "data": {
      "text/plain": [
       "<matplotlib.axes._subplots.AxesSubplot at 0x111de0c10>"
      ]
     },
     "execution_count": 165,
     "metadata": {},
     "output_type": "execute_result"
    },
    {
     "data": {
      "image/png": "[encoded data removed]",
      "text/plain": [
       "<matplotlib.figure.Figure at 0x12d8797d0>"
      ]
     },
     "metadata": {},
     "output_type": "display_data"
    }
   ],
   "source": [
    "walker_propByDur.prop.plot()"
   ]
  },
  {
   "cell_type": "code",
   "execution_count": 166,
   "metadata": {
    "collapsed": true
   },
   "outputs": [],
   "source": [
    "driver_total_byDurBin = drivers.groupby(pd.cut(drivers['duration'], np.arange(0, 1280, 30))).count()\n",
    "driver_sum_byDurBin = drivers.groupby(pd.cut(drivers['duration'], np.arange(0, 1280, 30))).sum()\n",
    "\n",
    "# combine into new table\n",
    "driver_propByDur = pd.concat([driver_total_byDurBin.collaborated, driver_sum_byDurBin.collaborated], axis=1, join='inner')\n",
    "driver_propByDur.columns = ['totalPossible', 'n_collaborations']\n",
    "\n",
    "# calculate porportion\n",
    "driver_propByDur['prop'] = driver_propByDur.apply(lambda x: np.true_divide(x.n_collaborations, x.totalPossible), axis=1)"
   ]
  }
 ],
 "metadata": {
  "kernelspec": {
   "display_name": "Python 2",
   "language": "python",
   "name": "python2"
  },
  "language_info": {
   "codemirror_mode": {
    "name": "ipython",
    "version": 2
   },
   "file_extension": ".py",
   "mimetype": "text/x-python",
   "name": "python",
   "nbconvert_exporter": "python",
   "pygments_lexer": "ipython2",
   "version": "2.7.11"
  }
 },
 "nbformat": 4,
 "nbformat_minor": 0
}
